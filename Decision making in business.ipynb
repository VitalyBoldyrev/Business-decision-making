{
 "cells": [
  {
   "cell_type": "markdown",
   "metadata": {},
   "source": [
    "# Принятие решений в бизнесе"
   ]
  },
  {
   "cell_type": "markdown",
   "metadata": {},
   "source": [
    "### Цель исследования\n",
    "\n",
    "Приоритизировать гипотезы для увеличения выручки, запустить A/B-тест и пронализировать результаты. "
   ]
  },
  {
   "cell_type": "markdown",
   "metadata": {},
   "source": [
    "<b> Имеющиеся данные: </b> \n",
    "\n",
    "Файл /datasets/hypothesis.csv\n",
    "\n",
    "* Hypothesis — краткое описание гипотезы;\n",
    "* Reach — охват пользователей по 10-балльной шкале;\n",
    "* Impact — влияние на пользователей по 10-балльной шкале;\n",
    "* Confidence — уверенность в гипотезе по 10-балльной шкале;\n",
    "* Efforts — затраты ресурсов на проверку гипотезы по 10-балльной шкале. Чем больше значение Efforts, тем дороже проверка гипотезы.\n",
    "\n",
    "Файл /datasets/orders.csv\n",
    "\n",
    "* transactionId — идентификатор заказа;\n",
    "* visitorId — идентификатор пользователя, совершившего заказ;\n",
    "* date — дата, когда был совершён заказ;\n",
    "* revenue — выручка заказа;\n",
    "* group — группа A/B-теста, в которую попал заказ.\n",
    "\n",
    "\n",
    "Файл /datasets/visitors.csv\n",
    "\n",
    "* date — дата;\n",
    "* group — группа A/B-теста;\n",
    "* visitors — количество пользователей в указанную дату в указанной группе A/B-теста\n"
   ]
  },
  {
   "cell_type": "markdown",
   "metadata": {},
   "source": [
    "### Приоритизация гипотез"
   ]
  },
  {
   "cell_type": "markdown",
   "metadata": {},
   "source": [
    "#### Изучение и предобработка данных"
   ]
  },
  {
   "cell_type": "code",
   "execution_count": 1,
   "metadata": {},
   "outputs": [],
   "source": [
    "import pandas as pd  # импортируем необходимые для исследования библиотеки\n",
    "import matplotlib.pyplot as plt\n",
    "import numpy as np\n",
    "import scipy.stats as stats"
   ]
  },
  {
   "cell_type": "code",
   "execution_count": 2,
   "metadata": {},
   "outputs": [],
   "source": [
    "try:  # Загружаем датафреймы\n",
    "    hypothesis = pd.read_csv('/datasets/hypothesis.csv')\n",
    "    orders = pd.read_csv('/datasets/orders.csv')\n",
    "    visitors = pd.read_csv('/datasets/visitors.csv')\n",
    "except:\n",
    "    hypothesis = pd.read_csv('https://code.s3.yandex.net/datasets/hypothesis.csv')\n",
    "    orders = pd.read_csv('https://code.s3.yandex.net/datasets/orders.csv')\n",
    "    visitors = pd.read_csv('https://code.s3.yandex.net/datasets/visitors.csv')"
   ]
  },
  {
   "cell_type": "code",
   "execution_count": 3,
   "metadata": {},
   "outputs": [
    {
     "name": "stdout",
     "output_type": "stream",
     "text": [
      "<class 'pandas.core.frame.DataFrame'>\n",
      "RangeIndex: 9 entries, 0 to 8\n",
      "Data columns (total 5 columns):\n",
      " #   Column      Non-Null Count  Dtype \n",
      "---  ------      --------------  ----- \n",
      " 0   Hypothesis  9 non-null      object\n",
      " 1   Reach       9 non-null      int64 \n",
      " 2   Impact      9 non-null      int64 \n",
      " 3   Confidence  9 non-null      int64 \n",
      " 4   Efforts     9 non-null      int64 \n",
      "dtypes: int64(4), object(1)\n",
      "memory usage: 492.0+ bytes\n"
     ]
    }
   ],
   "source": [
    "hypothesis.info()"
   ]
  },
  {
   "cell_type": "code",
   "execution_count": 4,
   "metadata": {},
   "outputs": [
    {
     "name": "stdout",
     "output_type": "stream",
     "text": [
      "<class 'pandas.core.frame.DataFrame'>\n",
      "RangeIndex: 1197 entries, 0 to 1196\n",
      "Data columns (total 5 columns):\n",
      " #   Column         Non-Null Count  Dtype \n",
      "---  ------         --------------  ----- \n",
      " 0   transactionId  1197 non-null   int64 \n",
      " 1   visitorId      1197 non-null   int64 \n",
      " 2   date           1197 non-null   object\n",
      " 3   revenue        1197 non-null   int64 \n",
      " 4   group          1197 non-null   object\n",
      "dtypes: int64(3), object(2)\n",
      "memory usage: 46.9+ KB\n"
     ]
    }
   ],
   "source": [
    "orders.info()"
   ]
  },
  {
   "cell_type": "code",
   "execution_count": 5,
   "metadata": {},
   "outputs": [
    {
     "name": "stdout",
     "output_type": "stream",
     "text": [
      "<class 'pandas.core.frame.DataFrame'>\n",
      "RangeIndex: 62 entries, 0 to 61\n",
      "Data columns (total 3 columns):\n",
      " #   Column    Non-Null Count  Dtype \n",
      "---  ------    --------------  ----- \n",
      " 0   date      62 non-null     object\n",
      " 1   group     62 non-null     object\n",
      " 2   visitors  62 non-null     int64 \n",
      "dtypes: int64(1), object(2)\n",
      "memory usage: 1.6+ KB\n"
     ]
    }
   ],
   "source": [
    "visitors.info()"
   ]
  },
  {
   "cell_type": "code",
   "execution_count": 6,
   "metadata": {},
   "outputs": [
    {
     "data": {
      "text/plain": [
       "0"
      ]
     },
     "execution_count": 6,
     "metadata": {},
     "output_type": "execute_result"
    }
   ],
   "source": [
    "hypothesis.duplicated().sum()"
   ]
  },
  {
   "cell_type": "code",
   "execution_count": 7,
   "metadata": {},
   "outputs": [
    {
     "data": {
      "text/plain": [
       "Hypothesis    0\n",
       "Reach         0\n",
       "Impact        0\n",
       "Confidence    0\n",
       "Efforts       0\n",
       "dtype: int64"
      ]
     },
     "execution_count": 7,
     "metadata": {},
     "output_type": "execute_result"
    }
   ],
   "source": [
    "hypothesis.isna().sum()"
   ]
  },
  {
   "cell_type": "code",
   "execution_count": 8,
   "metadata": {},
   "outputs": [
    {
     "data": {
      "text/plain": [
       "0"
      ]
     },
     "execution_count": 8,
     "metadata": {},
     "output_type": "execute_result"
    }
   ],
   "source": [
    "orders.duplicated().sum()"
   ]
  },
  {
   "cell_type": "code",
   "execution_count": 9,
   "metadata": {},
   "outputs": [
    {
     "data": {
      "text/plain": [
       "transactionId    0\n",
       "visitorId        0\n",
       "date             0\n",
       "revenue          0\n",
       "group            0\n",
       "dtype: int64"
      ]
     },
     "execution_count": 9,
     "metadata": {},
     "output_type": "execute_result"
    }
   ],
   "source": [
    "orders.isna().sum()"
   ]
  },
  {
   "cell_type": "code",
   "execution_count": 10,
   "metadata": {},
   "outputs": [
    {
     "data": {
      "text/plain": [
       "0"
      ]
     },
     "execution_count": 10,
     "metadata": {},
     "output_type": "execute_result"
    }
   ],
   "source": [
    "visitors.duplicated().sum()"
   ]
  },
  {
   "cell_type": "code",
   "execution_count": 11,
   "metadata": {},
   "outputs": [
    {
     "data": {
      "text/plain": [
       "date        0\n",
       "group       0\n",
       "visitors    0\n",
       "dtype: int64"
      ]
     },
     "execution_count": 11,
     "metadata": {},
     "output_type": "execute_result"
    }
   ],
   "source": [
    "visitors.isna().sum()"
   ]
  },
  {
   "cell_type": "markdown",
   "metadata": {},
   "source": [
    "Рассмотрим имеющиеся таблицы с данными более внимательно. Пропущенные значения и дупликаты отсутствуют, но есть неточности в названиях столбцов, а также ошибки в их типах"
   ]
  },
  {
   "cell_type": "code",
   "execution_count": 12,
   "metadata": {},
   "outputs": [],
   "source": [
    "pd.set_option('max_colwidth', 200)"
   ]
  },
  {
   "cell_type": "code",
   "execution_count": 13,
   "metadata": {},
   "outputs": [
    {
     "data": {
      "text/html": [
       "<div>\n",
       "<style scoped>\n",
       "    .dataframe tbody tr th:only-of-type {\n",
       "        vertical-align: middle;\n",
       "    }\n",
       "\n",
       "    .dataframe tbody tr th {\n",
       "        vertical-align: top;\n",
       "    }\n",
       "\n",
       "    .dataframe thead th {\n",
       "        text-align: right;\n",
       "    }\n",
       "</style>\n",
       "<table border=\"1\" class=\"dataframe\">\n",
       "  <thead>\n",
       "    <tr style=\"text-align: right;\">\n",
       "      <th></th>\n",
       "      <th>Hypothesis</th>\n",
       "      <th>Reach</th>\n",
       "      <th>Impact</th>\n",
       "      <th>Confidence</th>\n",
       "      <th>Efforts</th>\n",
       "    </tr>\n",
       "  </thead>\n",
       "  <tbody>\n",
       "    <tr>\n",
       "      <th>0</th>\n",
       "      <td>Добавить два новых канала привлечения трафика, что позволит привлекать на 30% больше пользователей</td>\n",
       "      <td>3</td>\n",
       "      <td>10</td>\n",
       "      <td>8</td>\n",
       "      <td>6</td>\n",
       "    </tr>\n",
       "    <tr>\n",
       "      <th>1</th>\n",
       "      <td>Запустить собственную службу доставки, что сократит срок доставки заказов</td>\n",
       "      <td>2</td>\n",
       "      <td>5</td>\n",
       "      <td>4</td>\n",
       "      <td>10</td>\n",
       "    </tr>\n",
       "    <tr>\n",
       "      <th>2</th>\n",
       "      <td>Добавить блоки рекомендаций товаров на сайт интернет магазина, чтобы повысить конверсию и средний чек заказа</td>\n",
       "      <td>8</td>\n",
       "      <td>3</td>\n",
       "      <td>7</td>\n",
       "      <td>3</td>\n",
       "    </tr>\n",
       "    <tr>\n",
       "      <th>3</th>\n",
       "      <td>Изменить структура категорий, что увеличит конверсию, т.к. пользователи быстрее найдут нужный товар</td>\n",
       "      <td>8</td>\n",
       "      <td>3</td>\n",
       "      <td>3</td>\n",
       "      <td>8</td>\n",
       "    </tr>\n",
       "    <tr>\n",
       "      <th>4</th>\n",
       "      <td>Изменить цвет фона главной страницы, чтобы увеличить вовлеченность пользователей</td>\n",
       "      <td>3</td>\n",
       "      <td>1</td>\n",
       "      <td>1</td>\n",
       "      <td>1</td>\n",
       "    </tr>\n",
       "  </tbody>\n",
       "</table>\n",
       "</div>"
      ],
      "text/plain": [
       "                                                                                                     Hypothesis  \\\n",
       "0            Добавить два новых канала привлечения трафика, что позволит привлекать на 30% больше пользователей   \n",
       "1                                     Запустить собственную службу доставки, что сократит срок доставки заказов   \n",
       "2  Добавить блоки рекомендаций товаров на сайт интернет магазина, чтобы повысить конверсию и средний чек заказа   \n",
       "3           Изменить структура категорий, что увеличит конверсию, т.к. пользователи быстрее найдут нужный товар   \n",
       "4                              Изменить цвет фона главной страницы, чтобы увеличить вовлеченность пользователей   \n",
       "\n",
       "   Reach  Impact  Confidence  Efforts  \n",
       "0      3      10           8        6  \n",
       "1      2       5           4       10  \n",
       "2      8       3           7        3  \n",
       "3      8       3           3        8  \n",
       "4      3       1           1        1  "
      ]
     },
     "execution_count": 13,
     "metadata": {},
     "output_type": "execute_result"
    }
   ],
   "source": [
    "hypothesis.head()"
   ]
  },
  {
   "cell_type": "code",
   "execution_count": 14,
   "metadata": {},
   "outputs": [
    {
     "data": {
      "text/html": [
       "<div>\n",
       "<style scoped>\n",
       "    .dataframe tbody tr th:only-of-type {\n",
       "        vertical-align: middle;\n",
       "    }\n",
       "\n",
       "    .dataframe tbody tr th {\n",
       "        vertical-align: top;\n",
       "    }\n",
       "\n",
       "    .dataframe thead th {\n",
       "        text-align: right;\n",
       "    }\n",
       "</style>\n",
       "<table border=\"1\" class=\"dataframe\">\n",
       "  <thead>\n",
       "    <tr style=\"text-align: right;\">\n",
       "      <th></th>\n",
       "      <th>transactionId</th>\n",
       "      <th>visitorId</th>\n",
       "      <th>date</th>\n",
       "      <th>revenue</th>\n",
       "      <th>group</th>\n",
       "    </tr>\n",
       "  </thead>\n",
       "  <tbody>\n",
       "    <tr>\n",
       "      <th>0</th>\n",
       "      <td>3667963787</td>\n",
       "      <td>3312258926</td>\n",
       "      <td>2019-08-15</td>\n",
       "      <td>1650</td>\n",
       "      <td>B</td>\n",
       "    </tr>\n",
       "    <tr>\n",
       "      <th>1</th>\n",
       "      <td>2804400009</td>\n",
       "      <td>3642806036</td>\n",
       "      <td>2019-08-15</td>\n",
       "      <td>730</td>\n",
       "      <td>B</td>\n",
       "    </tr>\n",
       "    <tr>\n",
       "      <th>2</th>\n",
       "      <td>2961555356</td>\n",
       "      <td>4069496402</td>\n",
       "      <td>2019-08-15</td>\n",
       "      <td>400</td>\n",
       "      <td>A</td>\n",
       "    </tr>\n",
       "    <tr>\n",
       "      <th>3</th>\n",
       "      <td>3797467345</td>\n",
       "      <td>1196621759</td>\n",
       "      <td>2019-08-15</td>\n",
       "      <td>9759</td>\n",
       "      <td>B</td>\n",
       "    </tr>\n",
       "    <tr>\n",
       "      <th>4</th>\n",
       "      <td>2282983706</td>\n",
       "      <td>2322279887</td>\n",
       "      <td>2019-08-15</td>\n",
       "      <td>2308</td>\n",
       "      <td>B</td>\n",
       "    </tr>\n",
       "  </tbody>\n",
       "</table>\n",
       "</div>"
      ],
      "text/plain": [
       "   transactionId   visitorId        date  revenue group\n",
       "0     3667963787  3312258926  2019-08-15     1650     B\n",
       "1     2804400009  3642806036  2019-08-15      730     B\n",
       "2     2961555356  4069496402  2019-08-15      400     A\n",
       "3     3797467345  1196621759  2019-08-15     9759     B\n",
       "4     2282983706  2322279887  2019-08-15     2308     B"
      ]
     },
     "execution_count": 14,
     "metadata": {},
     "output_type": "execute_result"
    }
   ],
   "source": [
    "orders.head()"
   ]
  },
  {
   "cell_type": "code",
   "execution_count": 15,
   "metadata": {},
   "outputs": [
    {
     "data": {
      "text/html": [
       "<div>\n",
       "<style scoped>\n",
       "    .dataframe tbody tr th:only-of-type {\n",
       "        vertical-align: middle;\n",
       "    }\n",
       "\n",
       "    .dataframe tbody tr th {\n",
       "        vertical-align: top;\n",
       "    }\n",
       "\n",
       "    .dataframe thead th {\n",
       "        text-align: right;\n",
       "    }\n",
       "</style>\n",
       "<table border=\"1\" class=\"dataframe\">\n",
       "  <thead>\n",
       "    <tr style=\"text-align: right;\">\n",
       "      <th></th>\n",
       "      <th>date</th>\n",
       "      <th>group</th>\n",
       "      <th>visitors</th>\n",
       "    </tr>\n",
       "  </thead>\n",
       "  <tbody>\n",
       "    <tr>\n",
       "      <th>0</th>\n",
       "      <td>2019-08-01</td>\n",
       "      <td>A</td>\n",
       "      <td>719</td>\n",
       "    </tr>\n",
       "    <tr>\n",
       "      <th>1</th>\n",
       "      <td>2019-08-02</td>\n",
       "      <td>A</td>\n",
       "      <td>619</td>\n",
       "    </tr>\n",
       "    <tr>\n",
       "      <th>2</th>\n",
       "      <td>2019-08-03</td>\n",
       "      <td>A</td>\n",
       "      <td>507</td>\n",
       "    </tr>\n",
       "    <tr>\n",
       "      <th>3</th>\n",
       "      <td>2019-08-04</td>\n",
       "      <td>A</td>\n",
       "      <td>717</td>\n",
       "    </tr>\n",
       "    <tr>\n",
       "      <th>4</th>\n",
       "      <td>2019-08-05</td>\n",
       "      <td>A</td>\n",
       "      <td>756</td>\n",
       "    </tr>\n",
       "  </tbody>\n",
       "</table>\n",
       "</div>"
      ],
      "text/plain": [
       "         date group  visitors\n",
       "0  2019-08-01     A       719\n",
       "1  2019-08-02     A       619\n",
       "2  2019-08-03     A       507\n",
       "3  2019-08-04     A       717\n",
       "4  2019-08-05     A       756"
      ]
     },
     "execution_count": 15,
     "metadata": {},
     "output_type": "execute_result"
    }
   ],
   "source": [
    "visitors.head()"
   ]
  },
  {
   "cell_type": "markdown",
   "metadata": {},
   "source": [
    "Исправим неточности в столбцах"
   ]
  },
  {
   "cell_type": "code",
   "execution_count": 16,
   "metadata": {},
   "outputs": [],
   "source": [
    "hypothesis.columns = hypothesis.columns.str.lower() # Приводим названия столбцов в таблице hypothesis к нижнему регистру"
   ]
  },
  {
   "cell_type": "code",
   "execution_count": 17,
   "metadata": {},
   "outputs": [
    {
     "data": {
      "text/plain": [
       "9"
      ]
     },
     "execution_count": 17,
     "metadata": {},
     "output_type": "execute_result"
    }
   ],
   "source": [
    "hypothesis['hypothesis'].nunique() "
   ]
  },
  {
   "cell_type": "code",
   "execution_count": 18,
   "metadata": {},
   "outputs": [
    {
     "data": {
      "text/plain": [
       "array(['Добавить два новых канала привлечения трафика, что позволит привлекать на 30% больше пользователей',\n",
       "       'Запустить собственную службу доставки, что сократит срок доставки заказов',\n",
       "       'Добавить блоки рекомендаций товаров на сайт интернет магазина, чтобы повысить конверсию и средний чек заказа',\n",
       "       'Изменить структура категорий, что увеличит конверсию, т.к. пользователи быстрее найдут нужный товар',\n",
       "       'Изменить цвет фона главной страницы, чтобы увеличить вовлеченность пользователей',\n",
       "       'Добавить страницу отзывов клиентов о магазине, что позволит увеличить количество заказов',\n",
       "       'Показать на главной странице баннеры с актуальными акциями и распродажами, чтобы увеличить конверсию',\n",
       "       'Добавить форму подписки на все основные страницы, чтобы собрать базу клиентов для email-рассылок',\n",
       "       'Запустить акцию, дающую скидку на товар в день рождения'],\n",
       "      dtype=object)"
      ]
     },
     "execution_count": 18,
     "metadata": {},
     "output_type": "execute_result"
    }
   ],
   "source": [
    "hypothesis['hypothesis'].unique() # неявные дупликаты отсутствуют"
   ]
  },
  {
   "cell_type": "markdown",
   "metadata": {},
   "source": [
    "Неявные повторы отсутствуют"
   ]
  },
  {
   "cell_type": "code",
   "execution_count": 19,
   "metadata": {
    "scrolled": true
   },
   "outputs": [],
   "source": [
    "orders = orders.rename(columns={\"transactionId\": \"transaction_id\", \"visitorId\": \"visitor_id\"}) # приводим столбцы к нижнему регистру"
   ]
  },
  {
   "cell_type": "code",
   "execution_count": 20,
   "metadata": {},
   "outputs": [],
   "source": [
    "orders['date'] = pd.to_datetime(orders['date'], format='%Y-%m-%d') # меняем формат столбцов с датами"
   ]
  },
  {
   "cell_type": "code",
   "execution_count": 21,
   "metadata": {},
   "outputs": [],
   "source": [
    "visitors['date'] = pd.to_datetime(visitors['date'], format='%Y-%m-%d')"
   ]
  },
  {
   "cell_type": "markdown",
   "metadata": {},
   "source": [
    "Предобработка завершена, данные готовы к дальнейшему использованию"
   ]
  },
  {
   "cell_type": "markdown",
   "metadata": {},
   "source": [
    "#### Примените фреймворк ICE для приоритизации гипотез. Отсортируйте их по убыванию приоритета."
   ]
  },
  {
   "cell_type": "code",
   "execution_count": 22,
   "metadata": {},
   "outputs": [],
   "source": [
    "hypothesis['ice'] = hypothesis['impact'] * hypothesis['confidence'] / hypothesis['efforts'] "
   ]
  },
  {
   "cell_type": "code",
   "execution_count": 23,
   "metadata": {},
   "outputs": [
    {
     "data": {
      "text/html": [
       "<div>\n",
       "<style scoped>\n",
       "    .dataframe tbody tr th:only-of-type {\n",
       "        vertical-align: middle;\n",
       "    }\n",
       "\n",
       "    .dataframe tbody tr th {\n",
       "        vertical-align: top;\n",
       "    }\n",
       "\n",
       "    .dataframe thead th {\n",
       "        text-align: right;\n",
       "    }\n",
       "</style>\n",
       "<table border=\"1\" class=\"dataframe\">\n",
       "  <thead>\n",
       "    <tr style=\"text-align: right;\">\n",
       "      <th></th>\n",
       "      <th>hypothesis</th>\n",
       "      <th>ice</th>\n",
       "    </tr>\n",
       "  </thead>\n",
       "  <tbody>\n",
       "    <tr>\n",
       "      <th>8</th>\n",
       "      <td>Запустить акцию, дающую скидку на товар в день рождения</td>\n",
       "      <td>16.2</td>\n",
       "    </tr>\n",
       "    <tr>\n",
       "      <th>0</th>\n",
       "      <td>Добавить два новых канала привлечения трафика, что позволит привлекать на 30% больше пользователей</td>\n",
       "      <td>13.3</td>\n",
       "    </tr>\n",
       "    <tr>\n",
       "      <th>7</th>\n",
       "      <td>Добавить форму подписки на все основные страницы, чтобы собрать базу клиентов для email-рассылок</td>\n",
       "      <td>11.2</td>\n",
       "    </tr>\n",
       "    <tr>\n",
       "      <th>6</th>\n",
       "      <td>Показать на главной странице баннеры с актуальными акциями и распродажами, чтобы увеличить конверсию</td>\n",
       "      <td>8.0</td>\n",
       "    </tr>\n",
       "    <tr>\n",
       "      <th>2</th>\n",
       "      <td>Добавить блоки рекомендаций товаров на сайт интернет магазина, чтобы повысить конверсию и средний чек заказа</td>\n",
       "      <td>7.0</td>\n",
       "    </tr>\n",
       "    <tr>\n",
       "      <th>1</th>\n",
       "      <td>Запустить собственную службу доставки, что сократит срок доставки заказов</td>\n",
       "      <td>2.0</td>\n",
       "    </tr>\n",
       "    <tr>\n",
       "      <th>5</th>\n",
       "      <td>Добавить страницу отзывов клиентов о магазине, что позволит увеличить количество заказов</td>\n",
       "      <td>1.3</td>\n",
       "    </tr>\n",
       "    <tr>\n",
       "      <th>3</th>\n",
       "      <td>Изменить структура категорий, что увеличит конверсию, т.к. пользователи быстрее найдут нужный товар</td>\n",
       "      <td>1.1</td>\n",
       "    </tr>\n",
       "    <tr>\n",
       "      <th>4</th>\n",
       "      <td>Изменить цвет фона главной страницы, чтобы увеличить вовлеченность пользователей</td>\n",
       "      <td>1.0</td>\n",
       "    </tr>\n",
       "  </tbody>\n",
       "</table>\n",
       "</div>"
      ],
      "text/plain": [
       "                                                                                                     hypothesis  \\\n",
       "8                                                       Запустить акцию, дающую скидку на товар в день рождения   \n",
       "0            Добавить два новых канала привлечения трафика, что позволит привлекать на 30% больше пользователей   \n",
       "7              Добавить форму подписки на все основные страницы, чтобы собрать базу клиентов для email-рассылок   \n",
       "6          Показать на главной странице баннеры с актуальными акциями и распродажами, чтобы увеличить конверсию   \n",
       "2  Добавить блоки рекомендаций товаров на сайт интернет магазина, чтобы повысить конверсию и средний чек заказа   \n",
       "1                                     Запустить собственную службу доставки, что сократит срок доставки заказов   \n",
       "5                      Добавить страницу отзывов клиентов о магазине, что позволит увеличить количество заказов   \n",
       "3           Изменить структура категорий, что увеличит конверсию, т.к. пользователи быстрее найдут нужный товар   \n",
       "4                              Изменить цвет фона главной страницы, чтобы увеличить вовлеченность пользователей   \n",
       "\n",
       "    ice  \n",
       "8  16.2  \n",
       "0  13.3  \n",
       "7  11.2  \n",
       "6   8.0  \n",
       "2   7.0  \n",
       "1   2.0  \n",
       "5   1.3  \n",
       "3   1.1  \n",
       "4   1.0  "
      ]
     },
     "execution_count": 23,
     "metadata": {},
     "output_type": "execute_result"
    }
   ],
   "source": [
    "hypothesis[['hypothesis','ice']].sort_values(by='ice',ascending=False).round(1)"
   ]
  },
  {
   "cell_type": "markdown",
   "metadata": {},
   "source": [
    "#### Примените фреймворк RICE для приоритизации гипотез. Отсортируйте их по убыванию приоритета."
   ]
  },
  {
   "cell_type": "code",
   "execution_count": 24,
   "metadata": {},
   "outputs": [],
   "source": [
    "hypothesis['rice'] = hypothesis['reach'] * hypothesis['impact'] * hypothesis['confidence'] / hypothesis['efforts'] "
   ]
  },
  {
   "cell_type": "code",
   "execution_count": 25,
   "metadata": {},
   "outputs": [
    {
     "data": {
      "text/html": [
       "<div>\n",
       "<style scoped>\n",
       "    .dataframe tbody tr th:only-of-type {\n",
       "        vertical-align: middle;\n",
       "    }\n",
       "\n",
       "    .dataframe tbody tr th {\n",
       "        vertical-align: top;\n",
       "    }\n",
       "\n",
       "    .dataframe thead th {\n",
       "        text-align: right;\n",
       "    }\n",
       "</style>\n",
       "<table border=\"1\" class=\"dataframe\">\n",
       "  <thead>\n",
       "    <tr style=\"text-align: right;\">\n",
       "      <th></th>\n",
       "      <th>hypothesis</th>\n",
       "      <th>rice</th>\n",
       "    </tr>\n",
       "  </thead>\n",
       "  <tbody>\n",
       "    <tr>\n",
       "      <th>7</th>\n",
       "      <td>Добавить форму подписки на все основные страницы, чтобы собрать базу клиентов для email-рассылок</td>\n",
       "      <td>112.0</td>\n",
       "    </tr>\n",
       "    <tr>\n",
       "      <th>2</th>\n",
       "      <td>Добавить блоки рекомендаций товаров на сайт интернет магазина, чтобы повысить конверсию и средний чек заказа</td>\n",
       "      <td>56.0</td>\n",
       "    </tr>\n",
       "    <tr>\n",
       "      <th>0</th>\n",
       "      <td>Добавить два новых канала привлечения трафика, что позволит привлекать на 30% больше пользователей</td>\n",
       "      <td>40.0</td>\n",
       "    </tr>\n",
       "    <tr>\n",
       "      <th>6</th>\n",
       "      <td>Показать на главной странице баннеры с актуальными акциями и распродажами, чтобы увеличить конверсию</td>\n",
       "      <td>40.0</td>\n",
       "    </tr>\n",
       "    <tr>\n",
       "      <th>8</th>\n",
       "      <td>Запустить акцию, дающую скидку на товар в день рождения</td>\n",
       "      <td>16.2</td>\n",
       "    </tr>\n",
       "    <tr>\n",
       "      <th>3</th>\n",
       "      <td>Изменить структура категорий, что увеличит конверсию, т.к. пользователи быстрее найдут нужный товар</td>\n",
       "      <td>9.0</td>\n",
       "    </tr>\n",
       "    <tr>\n",
       "      <th>1</th>\n",
       "      <td>Запустить собственную службу доставки, что сократит срок доставки заказов</td>\n",
       "      <td>4.0</td>\n",
       "    </tr>\n",
       "    <tr>\n",
       "      <th>5</th>\n",
       "      <td>Добавить страницу отзывов клиентов о магазине, что позволит увеличить количество заказов</td>\n",
       "      <td>4.0</td>\n",
       "    </tr>\n",
       "    <tr>\n",
       "      <th>4</th>\n",
       "      <td>Изменить цвет фона главной страницы, чтобы увеличить вовлеченность пользователей</td>\n",
       "      <td>3.0</td>\n",
       "    </tr>\n",
       "  </tbody>\n",
       "</table>\n",
       "</div>"
      ],
      "text/plain": [
       "                                                                                                     hypothesis  \\\n",
       "7              Добавить форму подписки на все основные страницы, чтобы собрать базу клиентов для email-рассылок   \n",
       "2  Добавить блоки рекомендаций товаров на сайт интернет магазина, чтобы повысить конверсию и средний чек заказа   \n",
       "0            Добавить два новых канала привлечения трафика, что позволит привлекать на 30% больше пользователей   \n",
       "6          Показать на главной странице баннеры с актуальными акциями и распродажами, чтобы увеличить конверсию   \n",
       "8                                                       Запустить акцию, дающую скидку на товар в день рождения   \n",
       "3           Изменить структура категорий, что увеличит конверсию, т.к. пользователи быстрее найдут нужный товар   \n",
       "1                                     Запустить собственную службу доставки, что сократит срок доставки заказов   \n",
       "5                      Добавить страницу отзывов клиентов о магазине, что позволит увеличить количество заказов   \n",
       "4                              Изменить цвет фона главной страницы, чтобы увеличить вовлеченность пользователей   \n",
       "\n",
       "    rice  \n",
       "7  112.0  \n",
       "2   56.0  \n",
       "0   40.0  \n",
       "6   40.0  \n",
       "8   16.2  \n",
       "3    9.0  \n",
       "1    4.0  \n",
       "5    4.0  \n",
       "4    3.0  "
      ]
     },
     "execution_count": 25,
     "metadata": {},
     "output_type": "execute_result"
    }
   ],
   "source": [
    "hypothesis[['hypothesis','rice']].sort_values(by='rice',ascending=False).round(1)"
   ]
  },
  {
   "cell_type": "markdown",
   "metadata": {},
   "source": [
    "#### Укажите, как изменилась приоритизация гипотез при применении RICE вместо ICE. Объясните, почему так произошло."
   ]
  },
  {
   "cell_type": "code",
   "execution_count": 26,
   "metadata": {},
   "outputs": [
    {
     "data": {
      "text/html": [
       "<div>\n",
       "<style scoped>\n",
       "    .dataframe tbody tr th:only-of-type {\n",
       "        vertical-align: middle;\n",
       "    }\n",
       "\n",
       "    .dataframe tbody tr th {\n",
       "        vertical-align: top;\n",
       "    }\n",
       "\n",
       "    .dataframe thead th {\n",
       "        text-align: right;\n",
       "    }\n",
       "</style>\n",
       "<table border=\"1\" class=\"dataframe\">\n",
       "  <thead>\n",
       "    <tr style=\"text-align: right;\">\n",
       "      <th></th>\n",
       "      <th>hypothesis</th>\n",
       "      <th>ice</th>\n",
       "      <th>rice</th>\n",
       "    </tr>\n",
       "  </thead>\n",
       "  <tbody>\n",
       "    <tr>\n",
       "      <th>7</th>\n",
       "      <td>Добавить форму подписки на все основные страницы, чтобы собрать базу клиентов для email-рассылок</td>\n",
       "      <td>11.200000</td>\n",
       "      <td>112.0</td>\n",
       "    </tr>\n",
       "    <tr>\n",
       "      <th>2</th>\n",
       "      <td>Добавить блоки рекомендаций товаров на сайт интернет магазина, чтобы повысить конверсию и средний чек заказа</td>\n",
       "      <td>7.000000</td>\n",
       "      <td>56.0</td>\n",
       "    </tr>\n",
       "    <tr>\n",
       "      <th>0</th>\n",
       "      <td>Добавить два новых канала привлечения трафика, что позволит привлекать на 30% больше пользователей</td>\n",
       "      <td>13.333333</td>\n",
       "      <td>40.0</td>\n",
       "    </tr>\n",
       "    <tr>\n",
       "      <th>6</th>\n",
       "      <td>Показать на главной странице баннеры с актуальными акциями и распродажами, чтобы увеличить конверсию</td>\n",
       "      <td>8.000000</td>\n",
       "      <td>40.0</td>\n",
       "    </tr>\n",
       "    <tr>\n",
       "      <th>8</th>\n",
       "      <td>Запустить акцию, дающую скидку на товар в день рождения</td>\n",
       "      <td>16.200000</td>\n",
       "      <td>16.2</td>\n",
       "    </tr>\n",
       "  </tbody>\n",
       "</table>\n",
       "</div>"
      ],
      "text/plain": [
       "                                                                                                     hypothesis  \\\n",
       "7              Добавить форму подписки на все основные страницы, чтобы собрать базу клиентов для email-рассылок   \n",
       "2  Добавить блоки рекомендаций товаров на сайт интернет магазина, чтобы повысить конверсию и средний чек заказа   \n",
       "0            Добавить два новых канала привлечения трафика, что позволит привлекать на 30% больше пользователей   \n",
       "6          Показать на главной странице баннеры с актуальными акциями и распродажами, чтобы увеличить конверсию   \n",
       "8                                                       Запустить акцию, дающую скидку на товар в день рождения   \n",
       "\n",
       "         ice   rice  \n",
       "7  11.200000  112.0  \n",
       "2   7.000000   56.0  \n",
       "0  13.333333   40.0  \n",
       "6   8.000000   40.0  \n",
       "8  16.200000   16.2  "
      ]
     },
     "execution_count": 26,
     "metadata": {},
     "output_type": "execute_result"
    }
   ],
   "source": [
    "hypothesis[['hypothesis','ice', 'rice']].sort_values(by='rice', ascending=False).head(5)"
   ]
  },
  {
   "cell_type": "markdown",
   "metadata": {},
   "source": [
    "При применении RICE учитывается охват аудитории (reach), которую затронут изменения. Соответственно, меняется и приоритизация гипотез - без учета показателя Reach наиболее важными гипотезами являются №№8, 0 и 7, то уже с учетом охвата наиболее приоритетной становится гипотеза №7, затем - №№2 и 0."
   ]
  },
  {
   "cell_type": "markdown",
   "metadata": {},
   "source": [
    "#### Выводы по первой части"
   ]
  },
  {
   "cell_type": "markdown",
   "metadata": {},
   "source": [
    "Ознакомились с данными, осуществили предобработку, приоритизировали необходимые гипотезы"
   ]
  },
  {
   "cell_type": "markdown",
   "metadata": {},
   "source": [
    "### Анализ A/B теста"
   ]
  },
  {
   "cell_type": "markdown",
   "metadata": {},
   "source": [
    "#### Постройте график кумулятивной выручки по группам. Сделайте выводы и предположения."
   ]
  },
  {
   "cell_type": "code",
   "execution_count": 28,
   "metadata": {},
   "outputs": [
    {
     "data": {
      "text/html": [
       "<div>\n",
       "<style scoped>\n",
       "    .dataframe tbody tr th:only-of-type {\n",
       "        vertical-align: middle;\n",
       "    }\n",
       "\n",
       "    .dataframe tbody tr th {\n",
       "        vertical-align: top;\n",
       "    }\n",
       "\n",
       "    .dataframe thead th {\n",
       "        text-align: right;\n",
       "    }\n",
       "</style>\n",
       "<table border=\"1\" class=\"dataframe\">\n",
       "  <thead>\n",
       "    <tr style=\"text-align: right;\">\n",
       "      <th></th>\n",
       "      <th>date</th>\n",
       "      <th>group</th>\n",
       "      <th>orders</th>\n",
       "      <th>buyers</th>\n",
       "      <th>revenue</th>\n",
       "      <th>visitors</th>\n",
       "    </tr>\n",
       "  </thead>\n",
       "  <tbody>\n",
       "    <tr>\n",
       "      <th>0</th>\n",
       "      <td>2019-08-01</td>\n",
       "      <td>A</td>\n",
       "      <td>24</td>\n",
       "      <td>20</td>\n",
       "      <td>148579</td>\n",
       "      <td>719</td>\n",
       "    </tr>\n",
       "    <tr>\n",
       "      <th>1</th>\n",
       "      <td>2019-08-01</td>\n",
       "      <td>B</td>\n",
       "      <td>21</td>\n",
       "      <td>20</td>\n",
       "      <td>101217</td>\n",
       "      <td>713</td>\n",
       "    </tr>\n",
       "    <tr>\n",
       "      <th>2</th>\n",
       "      <td>2019-08-02</td>\n",
       "      <td>A</td>\n",
       "      <td>44</td>\n",
       "      <td>38</td>\n",
       "      <td>242401</td>\n",
       "      <td>1338</td>\n",
       "    </tr>\n",
       "    <tr>\n",
       "      <th>3</th>\n",
       "      <td>2019-08-02</td>\n",
       "      <td>B</td>\n",
       "      <td>45</td>\n",
       "      <td>43</td>\n",
       "      <td>266748</td>\n",
       "      <td>1294</td>\n",
       "    </tr>\n",
       "    <tr>\n",
       "      <th>4</th>\n",
       "      <td>2019-08-03</td>\n",
       "      <td>A</td>\n",
       "      <td>68</td>\n",
       "      <td>62</td>\n",
       "      <td>354874</td>\n",
       "      <td>1845</td>\n",
       "    </tr>\n",
       "  </tbody>\n",
       "</table>\n",
       "</div>"
      ],
      "text/plain": [
       "        date group  orders  buyers  revenue  visitors\n",
       "0 2019-08-01     A      24      20   148579       719\n",
       "1 2019-08-01     B      21      20   101217       713\n",
       "2 2019-08-02     A      44      38   242401      1338\n",
       "3 2019-08-02     B      45      43   266748      1294\n",
       "4 2019-08-03     A      68      62   354874      1845"
      ]
     },
     "execution_count": 28,
     "metadata": {},
     "output_type": "execute_result"
    }
   ],
   "source": [
    "datesGroups = orders[['date','group']].drop_duplicates().sort_values(by=['date', 'group'])\n",
    "\n",
    "ordersAggregated = datesGroups.apply(lambda x: orders[np.logical_and(x['date'] >= orders['date'], x['group']==orders['group'])]\\\n",
    ".agg({'date':'max', 'group':'max', 'transaction_id':'nunique', 'visitor_id':'nunique', 'revenue':'sum'}), axis = 1)\n",
    "ordersAggregated.columns = ['date', 'group', 'orders', 'buyers', 'revenue']\n",
    "\n",
    "visitorsAggregated = datesGroups.apply(lambda x: visitors[np.logical_and(x['date'] >= visitors['date'], x['group']==visitors['group'])]\\\n",
    ".agg({'date':'max', 'group':'max', 'visitors':'sum'}), axis = 1)\n",
    "\n",
    "cumulativeData = ordersAggregated.merge(visitorsAggregated, left_on=['date', 'group'], right_on=['date', 'group'])\n",
    "\n",
    "cumulativeData.head(5)"
   ]
  },
  {
   "cell_type": "code",
   "execution_count": 29,
   "metadata": {},
   "outputs": [
    {
     "data": {
      "image/png": "[encoded data removed]",
      "text/plain": [
       "<Figure size 864x576 with 1 Axes>"
      ]
     },
     "metadata": {
      "needs_background": "light"
     },
     "output_type": "display_data"
    }
   ],
   "source": [
    "plt.figure(figsize=(12, 8))\n",
    "\n",
    "# датафрейм с кумулятивным количеством заказов и кумулятивной выручкой по дням в группе А\n",
    "cumulativeRevenueA = cumulativeData[cumulativeData['group']=='A'][['date','revenue', 'orders']]\n",
    "\n",
    "# датафрейм с кумулятивным количеством заказов и кумулятивной выручкой по дням в группе B\n",
    "cumulativeRevenueB = cumulativeData[cumulativeData['group']=='B'][['date','revenue', 'orders']]\n",
    "\n",
    "# Строим график выручки группы А\n",
    "plt.plot(cumulativeRevenueA['date'], cumulativeRevenueA['revenue'], label='A')\n",
    "\n",
    "# Строим график выручки группы B\n",
    "plt.plot(cumulativeRevenueB['date'], cumulativeRevenueB['revenue'], label='B')\n",
    "\n",
    "plt.xlabel('Дата')\n",
    "plt.ylabel('Выручка')\n",
    "plt.title('Графики кумулятивной выручки')\n",
    "plt.legend()\n",
    "plt.xticks(rotation=30)\n",
    "plt.show()"
   ]
  },
  {
   "cell_type": "markdown",
   "metadata": {},
   "source": [
    "Группа А показывает ровный, линейный рост. У группы В произошел резкий скачок 17 августа. Возможно, выброс"
   ]
  },
  {
   "cell_type": "markdown",
   "metadata": {},
   "source": [
    "#### Постройте график кумулятивного среднего чека по группам. Сделайте выводы и предположения."
   ]
  },
  {
   "cell_type": "code",
   "execution_count": 30,
   "metadata": {},
   "outputs": [
    {
     "data": {
      "image/png": "[encoded data removed]",
      "text/plain": [
       "<Figure size 864x576 with 1 Axes>"
      ]
     },
     "metadata": {
      "needs_background": "light"
     },
     "output_type": "display_data"
    }
   ],
   "source": [
    "plt.figure(figsize=(12, 8))\n",
    "\n",
    "plt.plot(cumulativeRevenueA['date'], cumulativeRevenueA['revenue']/cumulativeRevenueA['orders'], label = 'A')\n",
    "plt.plot(cumulativeRevenueB['date'], cumulativeRevenueB['revenue']/cumulativeRevenueB['orders'], label = 'B')\n",
    "plt.title('Графики кумулятивного среднего чека')\n",
    "plt.ylabel('Средний чек')\n",
    "plt.xlabel('Дата')\n",
    "plt.legend()\n",
    "plt.xticks(rotation=30)\n",
    "plt.show()"
   ]
  },
  {
   "cell_type": "markdown",
   "metadata": {},
   "source": [
    "Также виден резкий скачок второй группы начиная с 17 августа"
   ]
  },
  {
   "cell_type": "markdown",
   "metadata": {},
   "source": [
    "#### Постройте график относительного изменения кумулятивного среднего чека группы B к группе A. Сделайте выводы и предположения."
   ]
  },
  {
   "cell_type": "code",
   "execution_count": 31,
   "metadata": {},
   "outputs": [
    {
     "data": {
      "image/png": "[encoded data removed]",
      "text/plain": [
       "<Figure size 864x576 with 1 Axes>"
      ]
     },
     "metadata": {
      "needs_background": "light"
     },
     "output_type": "display_data"
    }
   ],
   "source": [
    "plt.figure(figsize=(12, 8))\n",
    "\n",
    "# собираем данные в одном датафрейме\n",
    "mergedCumulativeRevenue = cumulativeRevenueA.merge(cumulativeRevenueB, left_on='date', right_on='date', how='left', suffixes=['A', 'B'])\n",
    "\n",
    "# cтроим отношение средних чеков\n",
    "plt.plot(mergedCumulativeRevenue['date'], (mergedCumulativeRevenue['revenueB']/mergedCumulativeRevenue['ordersB'])/(mergedCumulativeRevenue['revenueA']/mergedCumulativeRevenue['ordersA'])-1)\n",
    "\n",
    "# добавляем ось X\n",
    "plt.axhline(y=0, color='black', linestyle='--') \n",
    "\n",
    "\n",
    "plt.xlabel('Дата')\n",
    "plt.ylabel('Средний чек')\n",
    "plt.title('График относительного изменения кумулятивного среднего чека группы B к группе A')\n",
    "plt.xticks(rotation=30)\n",
    "plt.show()"
   ]
  },
  {
   "cell_type": "markdown",
   "metadata": {},
   "source": [
    "На графике видны резкие колебания, которые могут быть связаны с аномальными данными и выбросами"
   ]
  },
  {
   "cell_type": "markdown",
   "metadata": {},
   "source": [
    "#### Постройте график кумулятивного среднего количества заказов на посетителя по группам. Сделайте выводы и предположения."
   ]
  },
  {
   "cell_type": "code",
   "execution_count": 32,
   "metadata": {},
   "outputs": [
    {
     "data": {
      "image/png": "[encoded data removed]",
      "text/plain": [
       "<Figure size 864x576 with 1 Axes>"
      ]
     },
     "metadata": {
      "needs_background": "light"
     },
     "output_type": "display_data"
    }
   ],
   "source": [
    "plt.figure(figsize=(12, 8))\n",
    "\n",
    "cumulativeData['conversion'] = cumulativeData['orders']/cumulativeData['visitors']\n",
    "\n",
    "# отделяем данные по группе A\n",
    "cumulativeDataA = cumulativeData[cumulativeData['group']=='A']\n",
    "\n",
    "# отделяем данные по группе B\n",
    "cumulativeDataB = cumulativeData[cumulativeData['group']=='B']\n",
    "\n",
    "# строим графики\n",
    "plt.plot(cumulativeDataA['date'], cumulativeDataA['conversion'], label='A')\n",
    "plt.plot(cumulativeDataB['date'], cumulativeDataB['conversion'], label='B')\n",
    "plt.legend()\n",
    "plt.xlabel('Дата')\n",
    "plt.ylabel('Среднее количество заказов')\n",
    "plt.title('График кумулятивного среднего количества заказов на посетителя');\n",
    "plt.xticks(rotation=30)\n",
    "plt.show()"
   ]
  },
  {
   "cell_type": "markdown",
   "metadata": {},
   "source": [
    "В среднем, число заказов у группы B больше. После 9 августа обе группы шли достаточно линейны, без резких скачков и спадов"
   ]
  },
  {
   "cell_type": "markdown",
   "metadata": {},
   "source": [
    "#### Постройте график относительного изменения кумулятивного среднего количества заказов на посетителя группы B к группе A. Сделайте выводы и предположения."
   ]
  },
  {
   "cell_type": "code",
   "execution_count": 49,
   "metadata": {},
   "outputs": [
    {
     "data": {
      "image/png": "[encoded data removed]",
      "text/plain": [
       "<Figure size 864x576 with 1 Axes>"
      ]
     },
     "metadata": {
      "needs_background": "light"
     },
     "output_type": "display_data"
    }
   ],
   "source": [
    "plt.figure(figsize=(12, 8))\n",
    "\n",
    "mergedCumulativeConversions = cumulativeDataA[['date','conversion']].merge(cumulativeDataB[['date','conversion']], left_on='date', right_on='date', how='left', suffixes=['A', 'B'])\n",
    "\n",
    "plt.plot(mergedCumulativeConversions['date'], mergedCumulativeConversions['conversionB']/mergedCumulativeConversions['conversionA']-1)\n",
    "\n",
    "plt.title('Относительное изменение кумулятивного среднего количества заказов на посетителя группы B к группе A')\n",
    "plt.ylabel('Среднее количество заказов')\n",
    "plt.xlabel('Дата')\n",
    "plt.axhline(y=0, color='black', linestyle='--')\n",
    "plt.axhline(y=0.15, color='grey', linestyle='--')\n",
    "plt.xticks(rotation=30)\n",
    "plt.show()"
   ]
  },
  {
   "cell_type": "markdown",
   "metadata": {},
   "source": [
    "Среднее количество заказов группы В показывает рост и в целом выглядит предпочтительнее первой группы"
   ]
  },
  {
   "cell_type": "markdown",
   "metadata": {},
   "source": [
    "#### Постройте точечный график количества заказов по пользователям. Сделайте выводы и предположения."
   ]
  },
  {
   "cell_type": "code",
   "execution_count": 34,
   "metadata": {},
   "outputs": [
    {
     "data": {
      "image/png": "[encoded data removed]",
      "text/plain": [
       "<Figure size 864x576 with 1 Axes>"
      ]
     },
     "metadata": {
      "needs_background": "light"
     },
     "output_type": "display_data"
    }
   ],
   "source": [
    "plt.figure(figsize=(12, 8))\n",
    "\n",
    "ordersByUsers = orders.groupby('visitor_id', as_index = False).agg({'transaction_id':'nunique'}).sort_values(by='transaction_id', ascending = False)\n",
    "ordersByUsers.columns = ['visitor_id', 'orders']\n",
    "\n",
    "x_values = pd.Series(range(0, len(ordersByUsers)))\n",
    "\n",
    "plt.scatter(x_values, ordersByUsers['orders'])\n",
    "plt.ylabel('Заказы')\n",
    "plt.xlabel('Пользователи')\n",
    "plt.title('Количество заказов по пользователям')\n",
    "plt.show()"
   ]
  },
  {
   "cell_type": "markdown",
   "metadata": {},
   "source": [
    "Большинство пользователей совершают по 1, реже - по 2 заказа. На графике отчетливо видны аномалии (в том числе более 10 заказов)."
   ]
  },
  {
   "cell_type": "markdown",
   "metadata": {},
   "source": [
    "#### Посчитайте 95-й и 99-й перцентили количества заказов на пользователя. Выберите границу для определения аномальных пользователей."
   ]
  },
  {
   "cell_type": "code",
   "execution_count": 35,
   "metadata": {},
   "outputs": [
    {
     "data": {
      "text/plain": [
       "array([2., 4.])"
      ]
     },
     "execution_count": 35,
     "metadata": {},
     "output_type": "execute_result"
    }
   ],
   "source": [
    "np.percentile(ordersByUsers['orders'], [95, 99])"
   ]
  },
  {
   "cell_type": "markdown",
   "metadata": {},
   "source": [
    "Только 5% пользователей совершают более 2 заказов, 1% пользователей - более 4 заказов. Целесообразно будет отбросить все заказы свыше 2. "
   ]
  },
  {
   "cell_type": "markdown",
   "metadata": {},
   "source": [
    "#### Постройте точечный график стоимостей заказов. Сделайте выводы и предположения."
   ]
  },
  {
   "cell_type": "code",
   "execution_count": 36,
   "metadata": {},
   "outputs": [
    {
     "data": {
      "image/png": "[encoded data removed]",
      "text/plain": [
       "<Figure size 864x576 with 1 Axes>"
      ]
     },
     "metadata": {
      "needs_background": "light"
     },
     "output_type": "display_data"
    }
   ],
   "source": [
    "x_values = pd.Series(range(0,len(orders['revenue'])))\n",
    "plt.figure(figsize=(12, 8))\n",
    "plt.scatter(x_values, orders['revenue'])\n",
    "plt.ticklabel_format(axis = 'y', style = 'plain')\n",
    "plt.ylim([0, 100000])\n",
    "plt.xlabel('Число пользователей')\n",
    "plt.ylabel('Стоимость')\n",
    "plt.title('График стоимостей заказов');"
   ]
  },
  {
   "cell_type": "code",
   "execution_count": 37,
   "metadata": {},
   "outputs": [
    {
     "data": {
      "image/png": "[encoded data removed]",
      "text/plain": [
       "<Figure size 864x576 with 1 Axes>"
      ]
     },
     "metadata": {
      "needs_background": "light"
     },
     "output_type": "display_data"
    }
   ],
   "source": [
    "x_values = pd.Series(range(0,len(orders['revenue'])))\n",
    "plt.figure(figsize=(12, 8))\n",
    "plt.scatter(x_values, orders['revenue'])\n",
    "plt.ticklabel_format(axis = 'y', style = 'plain')\n",
    "plt.ylim([0, 40000])\n",
    "plt.xlabel('Число пользователей')\n",
    "plt.ylabel('Стоимость')\n",
    "plt.title('График стоимостей заказов');"
   ]
  },
  {
   "cell_type": "markdown",
   "metadata": {},
   "source": [
    "Большинство заказов не превышает 20000 y.e. "
   ]
  },
  {
   "cell_type": "markdown",
   "metadata": {},
   "source": [
    "#### Посчитайте 95-й и 99-й перцентили стоимости заказов. Выберите границу для определения аномальных заказов."
   ]
  },
  {
   "cell_type": "code",
   "execution_count": 38,
   "metadata": {},
   "outputs": [
    {
     "data": {
      "text/plain": [
       "array([28000. , 58233.2])"
      ]
     },
     "execution_count": 38,
     "metadata": {},
     "output_type": "execute_result"
    }
   ],
   "source": [
    "np.percentile(orders['revenue'], [95, 99])"
   ]
  },
  {
   "cell_type": "markdown",
   "metadata": {},
   "source": [
    "Лишь 5% заказов дороже 28000 и 1% - 58233 y.e. Возьмем за границу 95% заказов не дороже 28000"
   ]
  },
  {
   "cell_type": "markdown",
   "metadata": {},
   "source": [
    "#### Посчитайте статистическую значимость различий в среднем количестве заказов на посетителя между группами по «сырым» данным. Сделайте выводы и предположения."
   ]
  },
  {
   "cell_type": "markdown",
   "metadata": {},
   "source": [
    "Прежде всего, обозначим гипотезы. \n",
    "\n",
    "* Нулевая гипотеза H0 - различия в среднем количестве заказов на посетителя между группами отсутсвуют либо между ними отсутствует статистически значимая разница.\n",
    "\n",
    "* Альтернативная гипотеза H1 - различия между группами есть.\n",
    "\n",
    "Ранее мы видели подтверждения скорее в пользу альтернативнной гипотезы, но это было до того как мы выделили аномальные данные.\n",
    "\n",
    "Поскольку в данных присутствуют выбросы, мы не можем использовать алгебраические метрики, поэтому для проверки гипотез будем использовать тест Генри Манна и Доналда Уитни. В качестве уровня статистической значимости установим 0,05. Если p-value превысит данный показатель, то подтверждаем нулевую гипотезу, в противном случае - альтернативную. "
   ]
  },
  {
   "cell_type": "code",
   "execution_count": 39,
   "metadata": {},
   "outputs": [
    {
     "name": "stdout",
     "output_type": "stream",
     "text": [
      "p-value:  0.01679\n",
      "Отвергаем нулевую гипотезу и выбираем альтернативную\n",
      "Соотношение среднего количества заказов пользователей группы B к пользователям группы А составляет: 0.13808\n"
     ]
    }
   ],
   "source": [
    "visitorsADaily = visitors[visitors['group'] == 'A'][['date', 'visitors']]\n",
    "visitorsADaily.columns = ['date', 'visitorsPerDateA']\n",
    "\n",
    "visitorsACummulative = visitorsADaily.apply(\n",
    "    lambda x: visitorsADaily[visitorsADaily['date'] <= x['date']].agg(\n",
    "        {'date': 'max', 'visitorsPerDateA': 'sum'}\n",
    "    ),\n",
    "    axis=1,\n",
    ")\n",
    "visitorsACummulative.columns = ['date', 'visitorsCummulativeA']\n",
    "\n",
    "visitorsBDaily = visitors[visitors['group'] == 'B'][['date', 'visitors']]\n",
    "visitorsBDaily.columns = ['date', 'visitorsPerDateB']\n",
    "\n",
    "visitorsBCummulative = visitorsBDaily.apply(\n",
    "    lambda x: visitorsBDaily[visitorsBDaily['date'] <= x['date']].agg(\n",
    "        {'date': 'max', 'visitorsPerDateB': 'sum'}\n",
    "    ),\n",
    "    axis=1,\n",
    ")\n",
    "visitorsBCummulative.columns = ['date', 'visitorsCummulativeB']\n",
    "\n",
    "ordersADaily = (\n",
    "    orders[orders['group'] == 'A'][['date', 'transaction_id', 'visitor_id', 'revenue']]\n",
    "    .groupby('date', as_index=False)\n",
    "    .agg({'transaction_id': pd.Series.nunique, 'revenue': 'sum'})\n",
    ")\n",
    "ordersADaily.columns = ['date', 'ordersPerDateA', 'revenuePerDateA']\n",
    "\n",
    "ordersACummulative = ordersADaily.apply(\n",
    "    lambda x: ordersADaily[ordersADaily['date'] <= x['date']].agg(\n",
    "        {'date': 'max', 'ordersPerDateA': 'sum', 'revenuePerDateA': 'sum'}\n",
    "    ),\n",
    "    axis=1,\n",
    ").sort_values(by=['date'])\n",
    "ordersACummulative.columns = [\n",
    "    'date',\n",
    "    'ordersCummulativeA',\n",
    "    'revenueCummulativeA',\n",
    "]\n",
    "\n",
    "ordersBDaily = (\n",
    "    orders[orders['group'] == 'B'][['date', 'transaction_id', 'visitor_id', 'revenue']]\n",
    "    .groupby('date', as_index=False)\n",
    "    .agg({'transaction_id': pd.Series.nunique, 'revenue': 'sum'})\n",
    ")\n",
    "ordersBDaily.columns = ['date', 'ordersPerDateB', 'revenuePerDateB']\n",
    "\n",
    "ordersBCummulative = ordersBDaily.apply(\n",
    "    lambda x: ordersBDaily[ordersBDaily['date'] <= x['date']].agg(\n",
    "        {'date': 'max', 'ordersPerDateB': 'sum', 'revenuePerDateB': 'sum'}\n",
    "    ),\n",
    "    axis=1,\n",
    ").sort_values(by=['date'])\n",
    "ordersBCummulative.columns = [\n",
    "    'date',\n",
    "    'ordersCummulativeB',\n",
    "    'revenueCummulativeB',\n",
    "]\n",
    "\n",
    "data = (\n",
    "    ordersADaily.merge(\n",
    "        ordersBDaily, left_on='date', right_on='date', how='left'\n",
    "    )\n",
    "    .merge(ordersACummulative, left_on='date', right_on='date', how='left')\n",
    "    .merge(ordersBCummulative, left_on='date', right_on='date', how='left')\n",
    "    .merge(visitorsADaily, left_on='date', right_on='date', how='left')\n",
    "    .merge(visitorsBDaily, left_on='date', right_on='date', how='left')\n",
    "    .merge(visitorsACummulative, left_on='date', right_on='date', how='left')\n",
    "    .merge(visitorsBCummulative, left_on='date', right_on='date', how='left')\n",
    ")\n",
    "ordersByUsersA = (\n",
    "    orders[orders['group'] == 'A']\n",
    "    .groupby('visitor_id', as_index=False)\n",
    "    .agg({'transaction_id': pd.Series.nunique})\n",
    ")\n",
    "ordersByUsersA.columns = ['visitor_id', 'orders']\n",
    "\n",
    "ordersByUsersB = (\n",
    "    orders[orders['group'] == 'B']\n",
    "    .groupby('visitor_id', as_index=False)\n",
    "    .agg({'transaction_id': pd.Series.nunique})\n",
    ")\n",
    "ordersByUsersB.columns = ['visitor_id', 'orders'] \n",
    "pd.Series(0, index=np.arange(data['visitorsPerDateA'].sum() - len(ordersByUsersA['orders'])), name='orders')\n",
    "[ordersByUsersA['orders'],pd.Series(0, index=np.arange(data['visitorsPerDateA'].sum() - len(ordersByUsersA['orders'])), name='orders')] \n",
    "sampleA = pd.concat([ordersByUsersA['orders'],pd.Series(0, index=np.arange(data['visitorsPerDateA'].sum() - len(ordersByUsersA['orders'])), name='orders')],axis=0)\n",
    "\n",
    "sampleB = pd.concat([ordersByUsersB['orders'],pd.Series(0, index=np.arange(data['visitorsPerDateB'].sum() - len(ordersByUsersB['orders'])), name='orders')],axis=0) \n",
    "ordersByUsersA = (\n",
    "    orders[orders['group'] == 'A']\n",
    "    .groupby('visitor_id', as_index=False)\n",
    "    .agg({'transaction_id': pd.Series.nunique})\n",
    ")\n",
    "ordersByUsersA.columns = ['visitor_id', 'orders']\n",
    "\n",
    "ordersByUsersB = (\n",
    "    orders[orders['group'] == 'B']\n",
    "    .groupby('visitor_id', as_index=False)\n",
    "    .agg({'transaction_id': pd.Series.nunique})\n",
    ")\n",
    "ordersByUsersB.columns = ['visitor_id', 'orders']\n",
    "\n",
    "sampleA = pd.concat(\n",
    "    [\n",
    "        ordersByUsersA['orders'],\n",
    "        pd.Series(\n",
    "            0,\n",
    "            index=np.arange(\n",
    "                data['visitorsPerDateA'].sum() - len(ordersByUsersA['orders'])\n",
    "            ),\n",
    "            name='orders',\n",
    "        ),\n",
    "    ],\n",
    "    axis=0,\n",
    ")\n",
    "\n",
    "sampleB = pd.concat(\n",
    "    [\n",
    "        ordersByUsersB['orders'],\n",
    "        pd.Series(\n",
    "            0,\n",
    "            index=np.arange(\n",
    "                data['visitorsPerDateB'].sum() - len(ordersByUsersB['orders'])\n",
    "            ),\n",
    "            name='orders',\n",
    "        ),\n",
    "    ],\n",
    "    axis=0,\n",
    ")\n",
    "alpha = .05 \n",
    "results = stats.mannwhitneyu(sampleA, sampleB)\n",
    "\n",
    "\n",
    "print('p-value: ', '{0:.5f}'.format(results.pvalue))\n",
    "\n",
    "if results.pvalue < alpha:\n",
    "    print('Отвергаем нулевую гипотезу и выбираем альтернативную')\n",
    "else:\n",
    "    print('Не получилось отвергнуть нулевую гипотезу') \n",
    "\n",
    "print('Соотношение среднего количества заказов пользователей группы B к пользователям группы А составляет:', \"{0:.5f}\".format(sampleB.mean() / sampleA.mean() - 1))"
   ]
  },
  {
   "cell_type": "markdown",
   "metadata": {},
   "source": [
    "#### Посчитайте статистическую значимость различий в среднем чеке заказа между группами по «сырым» данным. Сделайте выводы и предположения."
   ]
  },
  {
   "cell_type": "markdown",
   "metadata": {},
   "source": [
    "По аналогии с прошлой задачей определяем гипотезы: \n",
    "\n",
    "* Нулевая гипотеза H0 - различия в среднем чеке заказа между группами по «сырым» данным отсутствуют.\n",
    "\n",
    "* Альтернативная гипотеза Н1 - различия между группами есть. \n",
    "\n",
    "Воспользуемся тем же тестом и уровнем статистической значимости"
   ]
  },
  {
   "cell_type": "code",
   "execution_count": 40,
   "metadata": {},
   "outputs": [
    {
     "name": "stdout",
     "output_type": "stream",
     "text": [
      "p-value:  0.72929\n",
      "Не получилось отвергнуть нулевую гипотезу\n",
      "Соотношение среднего чека заказов пользователей группы B к пользователям группы А составляет: 0.25871\n"
     ]
    }
   ],
   "source": [
    "results = stats.mannwhitneyu(orders[orders['group']=='A']['revenue'], orders[orders['group']=='B']['revenue'])\n",
    "\n",
    "\n",
    "print('p-value: ', '{0:.5f}'.format(results.pvalue))\n",
    "\n",
    "if results.pvalue < alpha:\n",
    "    print('Отвергаем нулевую гипотезу и выбираем альтернативную')\n",
    "else:\n",
    "    print('Не получилось отвергнуть нулевую гипотезу') \n",
    "print('Соотношение среднего чека заказов пользователей группы B к пользователям группы А составляет:', \"{0:.5f}\".format(orders[orders['group']=='B']['revenue'].mean()/orders[orders['group']=='A']['revenue'].mean()-1))\n"
   ]
  },
  {
   "cell_type": "markdown",
   "metadata": {},
   "source": [
    "#### Посчитайте статистическую значимость различий в среднем количестве заказов на посетителя между группами по «очищенным» данным. Сделайте выводы и предположения."
   ]
  },
  {
   "cell_type": "code",
   "execution_count": 41,
   "metadata": {},
   "outputs": [],
   "source": [
    "limit_orders = np.percentile(ordersByUsers['orders'], 95)\n",
    "expensive_orders = np.percentile(orders['revenue'], 95)"
   ]
  },
  {
   "cell_type": "code",
   "execution_count": 42,
   "metadata": {},
   "outputs": [
    {
     "name": "stdout",
     "output_type": "stream",
     "text": [
      "Кол-во аномальных пользователей: 74\n",
      "Относительное кол-во аномальных пользователей: 7.18%\n"
     ]
    }
   ],
   "source": [
    "usersWithManyOrders = pd.concat(\n",
    "    [\n",
    "        ordersByUsersA[ordersByUsersA['orders'] > limit_orders]['visitor_id'],\n",
    "        ordersByUsersB[ordersByUsersB['orders'] > limit_orders]['visitor_id'],\n",
    "    ],\n",
    "    axis=0,\n",
    ")\n",
    "usersWithExpensiveOrders = orders[orders['revenue'] > expensive_orders]['visitor_id']\n",
    "abnormalUsers = (\n",
    "    pd.concat([usersWithManyOrders, usersWithExpensiveOrders], axis=0)\n",
    "    .drop_duplicates()\n",
    "    .sort_values()\n",
    ")\n",
    "\n",
    "abnormalUsers_count = len(abnormalUsers)\n",
    "total_users = len(orders['visitor_id'].unique())\n",
    "abnormalUsers_ratio = abnormalUsers_count / total_users\n",
    "\n",
    "\n",
    "print('Кол-во аномальных пользователей: {}'.format(abnormalUsers_count))\n",
    "print('Относительное кол-во аномальных пользователей: {:.2%}'.format(abnormalUsers_ratio))"
   ]
  },
  {
   "cell_type": "markdown",
   "metadata": {},
   "source": [
    "* Нулевая гипотеза H0 - различия в среднем количестве заказов на посетителя между группами отсутсвуют либо между ними отсутствует статистически значимая разница.\n",
    "\n",
    "* Альтернативная гипотеза H1 - различия между группами есть."
   ]
  },
  {
   "cell_type": "code",
   "execution_count": 43,
   "metadata": {},
   "outputs": [
    {
     "name": "stdout",
     "output_type": "stream",
     "text": [
      "p-value:  0.01304\n",
      "Отвергаем нулевую гипотезу и выбираем альтернативную\n",
      "Соотношение среднего количества заказов пользователей группы B к пользователям группы А составляет: 0.17270\n"
     ]
    }
   ],
   "source": [
    "sampleAFiltered = pd.concat(\n",
    "    [\n",
    "        ordersByUsersA[\n",
    "            np.logical_not(ordersByUsersA['visitor_id'].isin(abnormalUsers))\n",
    "        ]['orders'],\n",
    "        pd.Series(\n",
    "            0,\n",
    "            index=np.arange(\n",
    "                data['visitorsPerDateA'].sum() - len(ordersByUsersA['orders'])\n",
    "            ),\n",
    "            name='orders',\n",
    "        ),\n",
    "    ],\n",
    "    axis=0,\n",
    ")\n",
    "\n",
    "sampleBFiltered = pd.concat(\n",
    "    [\n",
    "        ordersByUsersB[\n",
    "            np.logical_not(ordersByUsersB['visitor_id'].isin(abnormalUsers))\n",
    "        ]['orders'],\n",
    "        pd.Series(\n",
    "            0,\n",
    "            index=np.arange(\n",
    "                data['visitorsPerDateB'].sum() - len(ordersByUsersB['orders'])\n",
    "            ),\n",
    "            name='orders',\n",
    "        ),\n",
    "    ],\n",
    "    axis=0,\n",
    ")\n",
    "\n",
    "\n",
    "alpha = .05 \n",
    "results = stats.mannwhitneyu(sampleAFiltered, sampleBFiltered)\n",
    "\n",
    "\n",
    "print('p-value: ', '{0:.5f}'.format(results.pvalue))\n",
    "\n",
    "if results.pvalue < alpha:\n",
    "    print('Отвергаем нулевую гипотезу и выбираем альтернативную')\n",
    "else:\n",
    "    print('Не получилось отвергнуть нулевую гипотезу') \n",
    "\n",
    "print('Соотношение среднего количества заказов пользователей группы B к пользователям группы А составляет:', '{0:.5f}'.format(sampleBFiltered.mean()/sampleAFiltered.mean()-1))"
   ]
  },
  {
   "cell_type": "markdown",
   "metadata": {},
   "source": [
    "#### Посчитайте статистическую значимость различий в среднем чеке заказа между группами по «очищенным» данным. Сделайте выводы и предположения."
   ]
  },
  {
   "cell_type": "markdown",
   "metadata": {},
   "source": [
    "* Нулевая гипотеза H0 - различия в среднем чеке заказа между группами отсутствуют.\n",
    "\n",
    "* Альтернативная гипотеза Н1 - различия между группами есть. "
   ]
  },
  {
   "cell_type": "code",
   "execution_count": 44,
   "metadata": {
    "scrolled": true
   },
   "outputs": [
    {
     "name": "stdout",
     "output_type": "stream",
     "text": [
      "p-value:  0.73848\n",
      "Не получилось отвергнуть нулевую гипотезу\n",
      "Соотношение среднего чека заказов пользователей группы B к пользователям группы А составляет: -0.01962\n"
     ]
    }
   ],
   "source": [
    "results = stats.mannwhitneyu(\n",
    "            orders[\n",
    "                np.logical_and(\n",
    "                    orders['group'] == 'A',\n",
    "                    np.logical_not(orders['visitor_id'].isin(abnormalUsers)),\n",
    "                )\n",
    "            ]['revenue'],\n",
    "            orders[\n",
    "                np.logical_and(\n",
    "                    orders['group'] == 'B',\n",
    "                    np.logical_not(orders['visitor_id'].isin(abnormalUsers)),\n",
    "                )\n",
    "            ]['revenue'],\n",
    "        )\n",
    "\n",
    "print('p-value: ', '{0:.5f}'.format(results.pvalue))\n",
    "if results.pvalue < alpha:\n",
    "    print('Отвергаем нулевую гипотезу и выбираем альтернативную')\n",
    "else:\n",
    "    print('Не получилось отвергнуть нулевую гипотезу') \n",
    "print('Соотношение среднего чека заказов пользователей группы B к пользователям группы А составляет:',\n",
    "    '{0:.5f}'.format(\n",
    "        orders[\n",
    "            np.logical_and(\n",
    "                orders['group'] == 'B',\n",
    "                np.logical_not(orders['visitor_id'].isin(abnormalUsers)),\n",
    "            )\n",
    "        ]['revenue'].mean()\n",
    "        / orders[\n",
    "            np.logical_and(\n",
    "                orders['group'] == 'A',\n",
    "                np.logical_not(orders['visitor_id'].isin(abnormalUsers)),\n",
    "            )\n",
    "        ]['revenue'].mean()\n",
    "        - 1\n",
    "    )\n",
    ")"
   ]
  },
  {
   "cell_type": "markdown",
   "metadata": {},
   "source": [
    "#### Примите решение по результатам теста и объясните его. Варианты решений:\n",
    "1. Остановить тест, зафиксировать победу одной из групп.\n",
    "2. Остановить тест, зафиксировать отсутствие различий между группами.\n",
    "3. Продолжить тест."
   ]
  },
  {
   "cell_type": "markdown",
   "metadata": {},
   "source": [
    "Исходя из проведенного анализа, представляется правильным решение остановить тест и зафиксировать победу группы В. И по \"сырым\" и по отфильтрованным данным среднее количество заказов группы В выше, чем у группы А. При этом статистически значимые различия по среднему чеку заказа между группами отсутствуют. "
   ]
  }
 ],
 "metadata": {
  "ExecuteTimeLog": [
   {
    "duration": 837,
    "start_time": "2023-05-29T19:35:42.802Z"
   },
   {
    "duration": 103,
    "start_time": "2023-05-29T19:36:21.432Z"
   },
   {
    "duration": 65,
    "start_time": "2023-05-29T19:36:35.414Z"
   },
   {
    "duration": 12,
    "start_time": "2023-05-29T19:36:43.043Z"
   },
   {
    "duration": 27,
    "start_time": "2023-05-29T19:36:54.705Z"
   },
   {
    "duration": 28,
    "start_time": "2023-05-29T19:37:02.354Z"
   },
   {
    "duration": 66,
    "start_time": "2023-05-29T19:37:26.955Z"
   },
   {
    "duration": 11,
    "start_time": "2023-05-29T19:38:47.910Z"
   },
   {
    "duration": 10,
    "start_time": "2023-05-29T19:38:52.947Z"
   },
   {
    "duration": 94,
    "start_time": "2023-05-29T19:38:55.717Z"
   },
   {
    "duration": 17,
    "start_time": "2023-05-29T19:38:56.128Z"
   },
   {
    "duration": 9,
    "start_time": "2023-05-29T19:38:57.514Z"
   },
   {
    "duration": 9,
    "start_time": "2023-05-29T19:38:57.708Z"
   },
   {
    "duration": 11,
    "start_time": "2023-05-29T19:39:03.720Z"
   },
   {
    "duration": 10,
    "start_time": "2023-05-29T19:39:48.288Z"
   },
   {
    "duration": 7,
    "start_time": "2023-05-29T19:39:55.484Z"
   },
   {
    "duration": 7,
    "start_time": "2023-05-29T19:40:00.988Z"
   },
   {
    "duration": 4,
    "start_time": "2023-05-29T19:40:52.742Z"
   },
   {
    "duration": 13,
    "start_time": "2023-05-29T19:40:56.544Z"
   },
   {
    "duration": 772,
    "start_time": "2023-05-29T19:41:23.656Z"
   },
   {
    "duration": 14,
    "start_time": "2023-05-29T19:44:09.334Z"
   },
   {
    "duration": 9,
    "start_time": "2023-05-29T19:44:43.724Z"
   },
   {
    "duration": 11,
    "start_time": "2023-05-29T19:45:42.030Z"
   },
   {
    "duration": 14,
    "start_time": "2023-05-29T19:45:42.658Z"
   },
   {
    "duration": 9,
    "start_time": "2023-05-29T19:46:57.452Z"
   },
   {
    "duration": 7,
    "start_time": "2023-05-29T19:47:06.728Z"
   },
   {
    "duration": 5,
    "start_time": "2023-05-29T19:47:09.012Z"
   },
   {
    "duration": 6,
    "start_time": "2023-05-29T19:47:37.129Z"
   },
   {
    "duration": 8,
    "start_time": "2023-05-29T19:50:40.200Z"
   },
   {
    "duration": 5,
    "start_time": "2023-05-29T19:50:55.912Z"
   },
   {
    "duration": 10,
    "start_time": "2023-05-29T19:51:01.016Z"
   },
   {
    "duration": 5,
    "start_time": "2023-05-29T19:51:06.743Z"
   },
   {
    "duration": 9,
    "start_time": "2023-05-29T19:51:07.120Z"
   },
   {
    "duration": 3,
    "start_time": "2023-05-29T19:52:29.921Z"
   },
   {
    "duration": 10,
    "start_time": "2023-05-29T19:52:31.104Z"
   },
   {
    "duration": 12,
    "start_time": "2023-05-29T19:53:20.236Z"
   },
   {
    "duration": 14,
    "start_time": "2023-05-29T19:53:32.749Z"
   },
   {
    "duration": 11,
    "start_time": "2023-05-29T19:54:07.138Z"
   },
   {
    "duration": 4,
    "start_time": "2023-05-29T19:54:15.922Z"
   },
   {
    "duration": 12,
    "start_time": "2023-05-29T19:54:16.124Z"
   },
   {
    "duration": 9,
    "start_time": "2023-05-29T19:54:16.600Z"
   },
   {
    "duration": 7,
    "start_time": "2023-05-29T19:54:30.721Z"
   },
   {
    "duration": 9,
    "start_time": "2023-05-29T19:54:32.637Z"
   },
   {
    "duration": 13,
    "start_time": "2023-05-29T19:54:39.943Z"
   },
   {
    "duration": 9,
    "start_time": "2023-05-29T19:54:41.257Z"
   },
   {
    "duration": 10,
    "start_time": "2023-05-29T19:55:02.204Z"
   },
   {
    "duration": 14,
    "start_time": "2023-05-29T19:55:03.946Z"
   },
   {
    "duration": 9,
    "start_time": "2023-05-29T19:55:05.954Z"
   },
   {
    "duration": 618,
    "start_time": "2023-05-29T19:55:19.432Z"
   },
   {
    "duration": 29,
    "start_time": "2023-05-29T19:55:20.052Z"
   },
   {
    "duration": 38,
    "start_time": "2023-05-29T19:55:20.083Z"
   },
   {
    "duration": 16,
    "start_time": "2023-05-29T19:55:20.123Z"
   },
   {
    "duration": 12,
    "start_time": "2023-05-29T19:55:20.141Z"
   },
   {
    "duration": 23,
    "start_time": "2023-05-29T19:55:20.154Z"
   },
   {
    "duration": 28,
    "start_time": "2023-05-29T19:55:20.178Z"
   },
   {
    "duration": 17,
    "start_time": "2023-05-29T19:55:20.208Z"
   },
   {
    "duration": 11,
    "start_time": "2023-05-29T19:55:20.227Z"
   },
   {
    "duration": 17,
    "start_time": "2023-05-29T19:55:20.240Z"
   },
   {
    "duration": 8,
    "start_time": "2023-05-29T19:55:20.259Z"
   },
   {
    "duration": 13,
    "start_time": "2023-05-29T19:55:20.268Z"
   },
   {
    "duration": 19,
    "start_time": "2023-05-29T19:55:20.283Z"
   },
   {
    "duration": 18,
    "start_time": "2023-05-29T19:55:20.304Z"
   },
   {
    "duration": 24,
    "start_time": "2023-05-29T19:55:20.324Z"
   },
   {
    "duration": 14,
    "start_time": "2023-05-29T19:55:20.349Z"
   },
   {
    "duration": 14,
    "start_time": "2023-05-29T19:55:20.364Z"
   },
   {
    "duration": 33,
    "start_time": "2023-05-29T19:55:20.379Z"
   },
   {
    "duration": 26,
    "start_time": "2023-05-29T19:55:20.413Z"
   },
   {
    "duration": 14,
    "start_time": "2023-05-29T19:55:20.440Z"
   },
   {
    "duration": 27,
    "start_time": "2023-05-29T19:55:20.455Z"
   },
   {
    "duration": 41,
    "start_time": "2023-05-29T19:55:20.483Z"
   },
   {
    "duration": 11,
    "start_time": "2023-05-29T19:55:53.589Z"
   },
   {
    "duration": 4,
    "start_time": "2023-05-29T19:56:25.697Z"
   },
   {
    "duration": 14,
    "start_time": "2023-05-29T19:56:33.220Z"
   },
   {
    "duration": 9,
    "start_time": "2023-05-29T20:00:05.717Z"
   },
   {
    "duration": 4,
    "start_time": "2023-05-29T20:00:19.313Z"
   },
   {
    "duration": 4,
    "start_time": "2023-05-29T20:00:35.913Z"
   },
   {
    "duration": 775,
    "start_time": "2023-05-31T18:42:48.195Z"
   },
   {
    "duration": 78,
    "start_time": "2023-05-31T18:42:48.972Z"
   },
   {
    "duration": 74,
    "start_time": "2023-05-31T18:42:49.052Z"
   },
   {
    "duration": 60,
    "start_time": "2023-05-31T18:42:49.135Z"
   },
   {
    "duration": 11,
    "start_time": "2023-05-31T18:42:49.197Z"
   },
   {
    "duration": 10,
    "start_time": "2023-05-31T18:42:49.209Z"
   },
   {
    "duration": 15,
    "start_time": "2023-05-31T18:42:49.220Z"
   },
   {
    "duration": 6,
    "start_time": "2023-05-31T18:42:49.238Z"
   },
   {
    "duration": 6,
    "start_time": "2023-05-31T18:42:49.245Z"
   },
   {
    "duration": 5,
    "start_time": "2023-05-31T18:42:49.253Z"
   },
   {
    "duration": 18,
    "start_time": "2023-05-31T18:42:49.259Z"
   },
   {
    "duration": 19,
    "start_time": "2023-05-31T18:42:49.278Z"
   },
   {
    "duration": 6,
    "start_time": "2023-05-31T18:42:49.298Z"
   },
   {
    "duration": 34,
    "start_time": "2023-05-31T18:42:49.305Z"
   },
   {
    "duration": 8,
    "start_time": "2023-05-31T18:42:49.340Z"
   },
   {
    "duration": 26,
    "start_time": "2023-05-31T18:42:49.349Z"
   },
   {
    "duration": 27,
    "start_time": "2023-05-31T18:42:49.376Z"
   },
   {
    "duration": 21,
    "start_time": "2023-05-31T18:42:49.405Z"
   },
   {
    "duration": 27,
    "start_time": "2023-05-31T18:42:49.431Z"
   },
   {
    "duration": 25,
    "start_time": "2023-05-31T18:42:49.459Z"
   },
   {
    "duration": 20,
    "start_time": "2023-05-31T18:42:49.486Z"
   },
   {
    "duration": 12,
    "start_time": "2023-05-31T18:42:49.507Z"
   },
   {
    "duration": 22,
    "start_time": "2023-05-31T18:42:49.521Z"
   },
   {
    "duration": 15,
    "start_time": "2023-05-31T18:42:49.545Z"
   },
   {
    "duration": 27,
    "start_time": "2023-05-31T18:42:49.561Z"
   },
   {
    "duration": 1540,
    "start_time": "2023-05-31T19:06:48.057Z"
   },
   {
    "duration": 1345,
    "start_time": "2023-05-31T19:06:54.665Z"
   },
   {
    "duration": 632,
    "start_time": "2023-05-31T19:07:03.453Z"
   },
   {
    "duration": 28,
    "start_time": "2023-05-31T19:07:04.087Z"
   },
   {
    "duration": 54,
    "start_time": "2023-05-31T19:07:04.118Z"
   },
   {
    "duration": 15,
    "start_time": "2023-05-31T19:07:04.174Z"
   },
   {
    "duration": 12,
    "start_time": "2023-05-31T19:07:04.191Z"
   },
   {
    "duration": 10,
    "start_time": "2023-05-31T19:07:04.204Z"
   },
   {
    "duration": 9,
    "start_time": "2023-05-31T19:07:04.216Z"
   },
   {
    "duration": 18,
    "start_time": "2023-05-31T19:07:04.231Z"
   },
   {
    "duration": 7,
    "start_time": "2023-05-31T19:07:04.256Z"
   },
   {
    "duration": 10,
    "start_time": "2023-05-31T19:07:04.264Z"
   },
   {
    "duration": 5,
    "start_time": "2023-05-31T19:07:04.275Z"
   },
   {
    "duration": 9,
    "start_time": "2023-05-31T19:07:04.282Z"
   },
   {
    "duration": 8,
    "start_time": "2023-05-31T19:07:04.292Z"
   },
   {
    "duration": 10,
    "start_time": "2023-05-31T19:07:04.301Z"
   },
   {
    "duration": 9,
    "start_time": "2023-05-31T19:07:04.325Z"
   },
   {
    "duration": 12,
    "start_time": "2023-05-31T19:07:04.336Z"
   },
   {
    "duration": 4,
    "start_time": "2023-05-31T19:07:04.349Z"
   },
   {
    "duration": 5,
    "start_time": "2023-05-31T19:07:04.358Z"
   },
   {
    "duration": 7,
    "start_time": "2023-05-31T19:07:04.364Z"
   },
   {
    "duration": 13,
    "start_time": "2023-05-31T19:07:04.373Z"
   },
   {
    "duration": 40,
    "start_time": "2023-05-31T19:07:04.388Z"
   },
   {
    "duration": 7,
    "start_time": "2023-05-31T19:07:04.430Z"
   },
   {
    "duration": 23,
    "start_time": "2023-05-31T19:07:04.439Z"
   },
   {
    "duration": 24,
    "start_time": "2023-05-31T19:07:04.463Z"
   },
   {
    "duration": 20,
    "start_time": "2023-05-31T19:07:04.488Z"
   },
   {
    "duration": 1469,
    "start_time": "2023-05-31T19:07:04.509Z"
   },
   {
    "duration": 81,
    "start_time": "2023-05-31T19:08:09.005Z"
   },
   {
    "duration": 5,
    "start_time": "2023-05-31T19:08:14.073Z"
   },
   {
    "duration": 1183,
    "start_time": "2023-05-31T19:08:28.154Z"
   },
   {
    "duration": 1163,
    "start_time": "2023-05-31T19:08:34.081Z"
   },
   {
    "duration": 10,
    "start_time": "2023-05-31T19:08:50.975Z"
   },
   {
    "duration": 10,
    "start_time": "2023-05-31T19:09:39.799Z"
   },
   {
    "duration": 10,
    "start_time": "2023-05-31T19:43:49.951Z"
   },
   {
    "duration": 894,
    "start_time": "2023-06-01T18:52:35.314Z"
   },
   {
    "duration": 71,
    "start_time": "2023-06-01T18:52:36.210Z"
   },
   {
    "duration": 139,
    "start_time": "2023-06-01T18:52:36.283Z"
   },
   {
    "duration": 53,
    "start_time": "2023-06-01T18:52:36.424Z"
   },
   {
    "duration": 13,
    "start_time": "2023-06-01T18:52:36.480Z"
   },
   {
    "duration": 21,
    "start_time": "2023-06-01T18:52:36.495Z"
   },
   {
    "duration": 23,
    "start_time": "2023-06-01T18:52:36.518Z"
   },
   {
    "duration": 30,
    "start_time": "2023-06-01T18:52:36.544Z"
   },
   {
    "duration": 25,
    "start_time": "2023-06-01T18:52:36.576Z"
   },
   {
    "duration": 24,
    "start_time": "2023-06-01T18:52:36.603Z"
   },
   {
    "duration": 43,
    "start_time": "2023-06-01T18:52:36.629Z"
   },
   {
    "duration": 22,
    "start_time": "2023-06-01T18:52:36.674Z"
   },
   {
    "duration": 8,
    "start_time": "2023-06-01T18:52:36.698Z"
   },
   {
    "duration": 25,
    "start_time": "2023-06-01T18:52:36.710Z"
   },
   {
    "duration": 41,
    "start_time": "2023-06-01T18:52:36.738Z"
   },
   {
    "duration": 21,
    "start_time": "2023-06-01T18:52:36.781Z"
   },
   {
    "duration": 22,
    "start_time": "2023-06-01T18:52:36.805Z"
   },
   {
    "duration": 21,
    "start_time": "2023-06-01T18:52:36.829Z"
   },
   {
    "duration": 18,
    "start_time": "2023-06-01T18:52:36.864Z"
   },
   {
    "duration": 46,
    "start_time": "2023-06-01T18:52:36.884Z"
   },
   {
    "duration": 21,
    "start_time": "2023-06-01T18:52:36.932Z"
   },
   {
    "duration": 41,
    "start_time": "2023-06-01T18:52:36.955Z"
   },
   {
    "duration": 44,
    "start_time": "2023-06-01T18:52:36.998Z"
   },
   {
    "duration": 44,
    "start_time": "2023-06-01T18:52:37.044Z"
   },
   {
    "duration": 28,
    "start_time": "2023-06-01T18:52:37.090Z"
   },
   {
    "duration": 22,
    "start_time": "2023-06-01T18:52:37.120Z"
   },
   {
    "duration": 69,
    "start_time": "2023-06-01T18:52:37.144Z"
   },
   {
    "duration": 85,
    "start_time": "2023-06-01T18:52:47.095Z"
   },
   {
    "duration": 90,
    "start_time": "2023-06-01T18:52:58.151Z"
   },
   {
    "duration": 8,
    "start_time": "2023-06-01T18:53:19.640Z"
   },
   {
    "duration": 120,
    "start_time": "2023-06-01T18:53:30.308Z"
   },
   {
    "duration": 112,
    "start_time": "2023-06-01T18:53:42.795Z"
   },
   {
    "duration": 94,
    "start_time": "2023-06-01T18:53:49.268Z"
   },
   {
    "duration": 19,
    "start_time": "2023-06-01T18:54:07.140Z"
   },
   {
    "duration": 17,
    "start_time": "2023-06-01T18:54:12.960Z"
   },
   {
    "duration": 6,
    "start_time": "2023-06-01T18:54:13.713Z"
   },
   {
    "duration": 13,
    "start_time": "2023-06-01T18:54:14.543Z"
   },
   {
    "duration": 9,
    "start_time": "2023-06-01T18:54:15.285Z"
   },
   {
    "duration": 12,
    "start_time": "2023-06-01T18:54:17.582Z"
   },
   {
    "duration": 19,
    "start_time": "2023-06-01T18:54:19.369Z"
   },
   {
    "duration": 5,
    "start_time": "2023-06-01T18:54:31.607Z"
   },
   {
    "duration": 14,
    "start_time": "2023-06-01T18:54:37.721Z"
   },
   {
    "duration": 11,
    "start_time": "2023-06-01T18:54:39.423Z"
   },
   {
    "duration": 7,
    "start_time": "2023-06-01T18:57:44.117Z"
   },
   {
    "duration": 1203,
    "start_time": "2023-06-01T18:57:58.799Z"
   },
   {
    "duration": 9,
    "start_time": "2023-06-01T18:58:03.209Z"
   },
   {
    "duration": 7,
    "start_time": "2023-06-01T18:58:11.714Z"
   },
   {
    "duration": 12,
    "start_time": "2023-06-01T18:59:40.899Z"
   },
   {
    "duration": 90,
    "start_time": "2023-06-01T18:59:45.542Z"
   },
   {
    "duration": 84,
    "start_time": "2023-06-01T18:59:50.786Z"
   },
   {
    "duration": 109,
    "start_time": "2023-06-01T19:00:14.508Z"
   },
   {
    "duration": 98,
    "start_time": "2023-06-01T19:00:21.607Z"
   },
   {
    "duration": 70,
    "start_time": "2023-06-01T19:00:27.198Z"
   },
   {
    "duration": 77,
    "start_time": "2023-06-01T19:00:33.409Z"
   },
   {
    "duration": 133,
    "start_time": "2023-06-01T19:00:39.945Z"
   },
   {
    "duration": 110,
    "start_time": "2023-06-01T19:00:44.529Z"
   },
   {
    "duration": 95,
    "start_time": "2023-06-01T19:04:37.667Z"
   },
   {
    "duration": 42,
    "start_time": "2023-06-01T19:06:51.587Z"
   },
   {
    "duration": 320,
    "start_time": "2023-06-01T19:07:18.746Z"
   },
   {
    "duration": 51,
    "start_time": "2023-06-01T19:08:07.422Z"
   },
   {
    "duration": 33,
    "start_time": "2023-06-01T19:08:36.519Z"
   },
   {
    "duration": 330,
    "start_time": "2023-06-01T19:08:47.662Z"
   },
   {
    "duration": 10,
    "start_time": "2023-06-01T19:09:58.206Z"
   },
   {
    "duration": 322,
    "start_time": "2023-06-01T19:10:16.868Z"
   },
   {
    "duration": 367,
    "start_time": "2023-06-01T19:10:20.608Z"
   },
   {
    "duration": 272,
    "start_time": "2023-06-01T19:10:48.899Z"
   },
   {
    "duration": 343,
    "start_time": "2023-06-01T19:11:01.432Z"
   },
   {
    "duration": 286,
    "start_time": "2023-06-01T19:11:22.575Z"
   },
   {
    "duration": 779,
    "start_time": "2023-06-01T19:11:33.994Z"
   },
   {
    "duration": 33,
    "start_time": "2023-06-01T19:11:34.775Z"
   },
   {
    "duration": 69,
    "start_time": "2023-06-01T19:11:34.811Z"
   },
   {
    "duration": 17,
    "start_time": "2023-06-01T19:11:34.882Z"
   },
   {
    "duration": 22,
    "start_time": "2023-06-01T19:11:34.903Z"
   },
   {
    "duration": 59,
    "start_time": "2023-06-01T19:11:34.927Z"
   },
   {
    "duration": 24,
    "start_time": "2023-06-01T19:11:34.992Z"
   },
   {
    "duration": 69,
    "start_time": "2023-06-01T19:11:35.019Z"
   },
   {
    "duration": 21,
    "start_time": "2023-06-01T19:11:35.091Z"
   },
   {
    "duration": 43,
    "start_time": "2023-06-01T19:11:35.114Z"
   },
   {
    "duration": 32,
    "start_time": "2023-06-01T19:11:35.165Z"
   },
   {
    "duration": 13,
    "start_time": "2023-06-01T19:11:35.207Z"
   },
   {
    "duration": 67,
    "start_time": "2023-06-01T19:11:35.223Z"
   },
   {
    "duration": 34,
    "start_time": "2023-06-01T19:11:35.294Z"
   },
   {
    "duration": 14,
    "start_time": "2023-06-01T19:11:35.331Z"
   },
   {
    "duration": 51,
    "start_time": "2023-06-01T19:11:35.347Z"
   },
   {
    "duration": 29,
    "start_time": "2023-06-01T19:11:35.400Z"
   },
   {
    "duration": 61,
    "start_time": "2023-06-01T19:11:35.432Z"
   },
   {
    "duration": 25,
    "start_time": "2023-06-01T19:11:35.495Z"
   },
   {
    "duration": 17,
    "start_time": "2023-06-01T19:11:35.522Z"
   },
   {
    "duration": 48,
    "start_time": "2023-06-01T19:11:35.541Z"
   },
   {
    "duration": 14,
    "start_time": "2023-06-01T19:11:35.591Z"
   },
   {
    "duration": 29,
    "start_time": "2023-06-01T19:11:35.607Z"
   },
   {
    "duration": 58,
    "start_time": "2023-06-01T19:11:35.638Z"
   },
   {
    "duration": 26,
    "start_time": "2023-06-01T19:11:35.698Z"
   },
   {
    "duration": 61,
    "start_time": "2023-06-01T19:11:35.727Z"
   },
   {
    "duration": 45,
    "start_time": "2023-06-01T19:11:35.791Z"
   },
   {
    "duration": 479,
    "start_time": "2023-06-01T19:11:35.839Z"
   },
   {
    "duration": 427,
    "start_time": "2023-06-01T19:11:36.320Z"
   },
   {
    "duration": 233,
    "start_time": "2023-06-01T19:12:20.970Z"
   },
   {
    "duration": 257,
    "start_time": "2023-06-01T19:12:50.574Z"
   },
   {
    "duration": 3,
    "start_time": "2023-06-01T19:12:56.619Z"
   },
   {
    "duration": 299,
    "start_time": "2023-06-01T19:13:26.524Z"
   },
   {
    "duration": 286,
    "start_time": "2023-06-01T19:13:48.044Z"
   },
   {
    "duration": 300,
    "start_time": "2023-06-01T19:18:13.218Z"
   },
   {
    "duration": 143,
    "start_time": "2023-06-01T19:18:42.545Z"
   },
   {
    "duration": 327,
    "start_time": "2023-06-01T19:19:12.916Z"
   },
   {
    "duration": 289,
    "start_time": "2023-06-01T19:19:28.598Z"
   },
   {
    "duration": 497,
    "start_time": "2023-06-01T19:19:45.086Z"
   },
   {
    "duration": 482,
    "start_time": "2023-06-01T19:19:54.308Z"
   },
   {
    "duration": 783,
    "start_time": "2023-06-01T19:20:07.972Z"
   },
   {
    "duration": 32,
    "start_time": "2023-06-01T19:20:08.763Z"
   },
   {
    "duration": 73,
    "start_time": "2023-06-01T19:20:08.797Z"
   },
   {
    "duration": 16,
    "start_time": "2023-06-01T19:20:08.872Z"
   },
   {
    "duration": 26,
    "start_time": "2023-06-01T19:20:08.892Z"
   },
   {
    "duration": 23,
    "start_time": "2023-06-01T19:20:08.920Z"
   },
   {
    "duration": 51,
    "start_time": "2023-06-01T19:20:08.946Z"
   },
   {
    "duration": 32,
    "start_time": "2023-06-01T19:20:08.999Z"
   },
   {
    "duration": 52,
    "start_time": "2023-06-01T19:20:09.033Z"
   },
   {
    "duration": 34,
    "start_time": "2023-06-01T19:20:09.087Z"
   },
   {
    "duration": 19,
    "start_time": "2023-06-01T19:20:09.124Z"
   },
   {
    "duration": 61,
    "start_time": "2023-06-01T19:20:09.145Z"
   },
   {
    "duration": 29,
    "start_time": "2023-06-01T19:20:09.208Z"
   },
   {
    "duration": 75,
    "start_time": "2023-06-01T19:20:09.241Z"
   },
   {
    "duration": 14,
    "start_time": "2023-06-01T19:20:09.318Z"
   },
   {
    "duration": 60,
    "start_time": "2023-06-01T19:20:09.334Z"
   },
   {
    "duration": 22,
    "start_time": "2023-06-01T19:20:09.396Z"
   },
   {
    "duration": 75,
    "start_time": "2023-06-01T19:20:09.421Z"
   },
   {
    "duration": 45,
    "start_time": "2023-06-01T19:20:09.497Z"
   },
   {
    "duration": 47,
    "start_time": "2023-06-01T19:20:09.544Z"
   },
   {
    "duration": 45,
    "start_time": "2023-06-01T19:20:09.593Z"
   },
   {
    "duration": 44,
    "start_time": "2023-06-01T19:20:09.640Z"
   },
   {
    "duration": 37,
    "start_time": "2023-06-01T19:20:09.686Z"
   },
   {
    "duration": 61,
    "start_time": "2023-06-01T19:20:09.725Z"
   },
   {
    "duration": 22,
    "start_time": "2023-06-01T19:20:09.787Z"
   },
   {
    "duration": 17,
    "start_time": "2023-06-01T19:20:09.811Z"
   },
   {
    "duration": 62,
    "start_time": "2023-06-01T19:20:09.850Z"
   },
   {
    "duration": 468,
    "start_time": "2023-06-01T19:20:09.914Z"
   },
   {
    "duration": 554,
    "start_time": "2023-06-01T19:20:10.384Z"
   },
   {
    "duration": 361,
    "start_time": "2023-06-01T19:20:10.942Z"
   },
   {
    "duration": 283,
    "start_time": "2023-06-01T19:20:27.790Z"
   },
   {
    "duration": 421,
    "start_time": "2023-06-01T19:20:36.576Z"
   },
   {
    "duration": 332,
    "start_time": "2023-06-01T19:21:05.609Z"
   },
   {
    "duration": 83,
    "start_time": "2023-06-01T19:25:16.146Z"
   },
   {
    "duration": 14,
    "start_time": "2023-06-01T19:26:03.602Z"
   },
   {
    "duration": 257,
    "start_time": "2023-06-01T19:26:08.976Z"
   },
   {
    "duration": 305,
    "start_time": "2023-06-01T19:27:38.769Z"
   },
   {
    "duration": 357,
    "start_time": "2023-06-01T19:28:32.305Z"
   },
   {
    "duration": 454,
    "start_time": "2023-06-01T19:29:55.036Z"
   },
   {
    "duration": 293,
    "start_time": "2023-06-01T19:31:44.094Z"
   },
   {
    "duration": 333,
    "start_time": "2023-06-01T19:32:52.476Z"
   },
   {
    "duration": 293,
    "start_time": "2023-06-01T19:34:48.944Z"
   },
   {
    "duration": 348,
    "start_time": "2023-06-01T19:38:54.837Z"
   },
   {
    "duration": 385,
    "start_time": "2023-06-01T19:39:25.231Z"
   },
   {
    "duration": 413,
    "start_time": "2023-06-01T19:39:35.492Z"
   },
   {
    "duration": 374,
    "start_time": "2023-06-01T19:39:43.117Z"
   },
   {
    "duration": 325,
    "start_time": "2023-06-01T19:39:52.371Z"
   },
   {
    "duration": 313,
    "start_time": "2023-06-01T19:40:08.387Z"
   },
   {
    "duration": 406,
    "start_time": "2023-06-01T19:40:27.588Z"
   },
   {
    "duration": 415,
    "start_time": "2023-06-01T19:43:59.873Z"
   },
   {
    "duration": 415,
    "start_time": "2023-06-01T19:45:49.077Z"
   },
   {
    "duration": 157,
    "start_time": "2023-06-01T19:50:18.948Z"
   },
   {
    "duration": 209,
    "start_time": "2023-06-01T19:51:22.389Z"
   },
   {
    "duration": 232,
    "start_time": "2023-06-01T19:51:34.992Z"
   },
   {
    "duration": 247,
    "start_time": "2023-06-01T19:52:04.239Z"
   },
   {
    "duration": 22,
    "start_time": "2023-06-01T19:58:20.839Z"
   },
   {
    "duration": 16,
    "start_time": "2023-06-01T19:58:29.062Z"
   },
   {
    "duration": 279,
    "start_time": "2023-06-01T19:58:34.218Z"
   },
   {
    "duration": 10,
    "start_time": "2023-06-01T19:59:18.967Z"
   },
   {
    "duration": 5,
    "start_time": "2023-06-01T19:59:24.619Z"
   },
   {
    "duration": 768,
    "start_time": "2023-06-02T19:48:35.052Z"
   },
   {
    "duration": 78,
    "start_time": "2023-06-02T19:48:35.822Z"
   },
   {
    "duration": 82,
    "start_time": "2023-06-02T19:48:35.902Z"
   },
   {
    "duration": 65,
    "start_time": "2023-06-02T19:48:35.986Z"
   },
   {
    "duration": 10,
    "start_time": "2023-06-02T19:48:36.053Z"
   },
   {
    "duration": 15,
    "start_time": "2023-06-02T19:48:36.065Z"
   },
   {
    "duration": 9,
    "start_time": "2023-06-02T19:48:36.081Z"
   },
   {
    "duration": 8,
    "start_time": "2023-06-02T19:48:36.092Z"
   },
   {
    "duration": 11,
    "start_time": "2023-06-02T19:48:36.101Z"
   },
   {
    "duration": 10,
    "start_time": "2023-06-02T19:48:36.115Z"
   },
   {
    "duration": 23,
    "start_time": "2023-06-02T19:48:36.126Z"
   },
   {
    "duration": 16,
    "start_time": "2023-06-02T19:48:36.151Z"
   },
   {
    "duration": 13,
    "start_time": "2023-06-02T19:48:36.169Z"
   },
   {
    "duration": 16,
    "start_time": "2023-06-02T19:48:36.184Z"
   },
   {
    "duration": 6,
    "start_time": "2023-06-02T19:48:36.202Z"
   },
   {
    "duration": 8,
    "start_time": "2023-06-02T19:48:36.210Z"
   },
   {
    "duration": 5,
    "start_time": "2023-06-02T19:48:36.219Z"
   },
   {
    "duration": 8,
    "start_time": "2023-06-02T19:48:36.226Z"
   },
   {
    "duration": 4,
    "start_time": "2023-06-02T19:48:36.235Z"
   },
   {
    "duration": 9,
    "start_time": "2023-06-02T19:48:36.241Z"
   },
   {
    "duration": 6,
    "start_time": "2023-06-02T19:48:36.251Z"
   },
   {
    "duration": 10,
    "start_time": "2023-06-02T19:48:36.258Z"
   },
   {
    "duration": 6,
    "start_time": "2023-06-02T19:48:36.269Z"
   },
   {
    "duration": 16,
    "start_time": "2023-06-02T19:48:36.276Z"
   },
   {
    "duration": 12,
    "start_time": "2023-06-02T19:48:36.294Z"
   },
   {
    "duration": 14,
    "start_time": "2023-06-02T19:48:36.308Z"
   },
   {
    "duration": 10,
    "start_time": "2023-06-02T19:48:36.323Z"
   },
   {
    "duration": 282,
    "start_time": "2023-06-02T19:48:36.335Z"
   },
   {
    "duration": 280,
    "start_time": "2023-06-02T19:48:36.619Z"
   },
   {
    "duration": 197,
    "start_time": "2023-06-02T19:48:36.901Z"
   },
   {
    "duration": 350,
    "start_time": "2023-06-02T19:48:37.106Z"
   },
   {
    "duration": 285,
    "start_time": "2023-06-02T19:48:37.457Z"
   },
   {
    "duration": 320,
    "start_time": "2023-06-02T19:48:37.744Z"
   },
   {
    "duration": 147,
    "start_time": "2023-06-02T19:48:38.065Z"
   },
   {
    "duration": 5,
    "start_time": "2023-06-02T19:48:38.213Z"
   },
   {
    "duration": 135,
    "start_time": "2023-06-02T19:53:05.698Z"
   },
   {
    "duration": 149,
    "start_time": "2023-06-02T19:53:56.466Z"
   },
   {
    "duration": 161,
    "start_time": "2023-06-02T19:54:17.902Z"
   },
   {
    "duration": 136,
    "start_time": "2023-06-02T19:54:37.668Z"
   },
   {
    "duration": 167,
    "start_time": "2023-06-02T19:54:50.379Z"
   },
   {
    "duration": 4,
    "start_time": "2023-06-02T20:00:05.554Z"
   },
   {
    "duration": 158,
    "start_time": "2023-06-02T20:15:27.583Z"
   },
   {
    "duration": 96,
    "start_time": "2023-06-02T20:16:00.060Z"
   },
   {
    "duration": 105,
    "start_time": "2023-06-02T20:16:26.551Z"
   },
   {
    "duration": 100,
    "start_time": "2023-06-02T20:17:01.180Z"
   },
   {
    "duration": 149,
    "start_time": "2023-06-02T20:17:19.995Z"
   },
   {
    "duration": 101,
    "start_time": "2023-06-02T20:17:41.048Z"
   },
   {
    "duration": 400,
    "start_time": "2023-06-02T20:18:08.754Z"
   },
   {
    "duration": 344,
    "start_time": "2023-06-02T20:18:27.740Z"
   },
   {
    "duration": 418,
    "start_time": "2023-06-02T20:18:31.761Z"
   },
   {
    "duration": 417,
    "start_time": "2023-06-02T20:19:28.443Z"
   },
   {
    "duration": 422,
    "start_time": "2023-06-02T20:22:25.456Z"
   },
   {
    "duration": 434,
    "start_time": "2023-06-02T20:22:44.011Z"
   },
   {
    "duration": 437,
    "start_time": "2023-06-02T20:22:53.612Z"
   },
   {
    "duration": 108,
    "start_time": "2023-06-02T20:26:03.890Z"
   },
   {
    "duration": 10,
    "start_time": "2023-06-02T20:26:21.660Z"
   },
   {
    "duration": 11,
    "start_time": "2023-06-02T20:26:56.148Z"
   },
   {
    "duration": 434,
    "start_time": "2023-06-02T20:27:16.424Z"
   },
   {
    "duration": 10,
    "start_time": "2023-06-02T20:27:19.138Z"
   },
   {
    "duration": 489,
    "start_time": "2023-06-02T20:28:10.242Z"
   },
   {
    "duration": 14,
    "start_time": "2023-06-02T20:28:12.504Z"
   },
   {
    "duration": 1154,
    "start_time": "2023-06-02T20:38:18.552Z"
   },
   {
    "duration": 1200,
    "start_time": "2023-06-02T20:38:30.352Z"
   },
   {
    "duration": 1116,
    "start_time": "2023-06-02T20:38:41.115Z"
   },
   {
    "duration": 1175,
    "start_time": "2023-06-02T20:39:03.993Z"
   },
   {
    "duration": 2,
    "start_time": "2023-06-02T20:41:14.680Z"
   },
   {
    "duration": 4,
    "start_time": "2023-06-02T20:42:15.072Z"
   },
   {
    "duration": 1129,
    "start_time": "2023-06-02T20:43:32.611Z"
   },
   {
    "duration": 8,
    "start_time": "2023-06-02T20:43:49.925Z"
   },
   {
    "duration": 419,
    "start_time": "2023-06-02T20:44:19.871Z"
   },
   {
    "duration": 9,
    "start_time": "2023-06-02T20:44:24.056Z"
   },
   {
    "duration": 3,
    "start_time": "2023-06-02T20:44:54.688Z"
   },
   {
    "duration": 9,
    "start_time": "2023-06-02T20:44:55.307Z"
   },
   {
    "duration": 4,
    "start_time": "2023-06-02T20:45:10.233Z"
   },
   {
    "duration": 9,
    "start_time": "2023-06-02T20:45:10.533Z"
   },
   {
    "duration": 8,
    "start_time": "2023-06-02T20:47:48.682Z"
   },
   {
    "duration": 1189,
    "start_time": "2023-06-02T20:48:08.548Z"
   },
   {
    "duration": 9,
    "start_time": "2023-06-02T20:48:16.359Z"
   },
   {
    "duration": 4,
    "start_time": "2023-06-02T20:48:26.174Z"
   },
   {
    "duration": 11,
    "start_time": "2023-06-02T20:48:42.585Z"
   },
   {
    "duration": 23,
    "start_time": "2023-06-02T20:51:09.564Z"
   },
   {
    "duration": 15,
    "start_time": "2023-06-02T20:53:58.418Z"
   },
   {
    "duration": 992,
    "start_time": "2023-06-02T21:01:58.438Z"
   },
   {
    "duration": 26,
    "start_time": "2023-06-02T21:01:59.432Z"
   },
   {
    "duration": 35,
    "start_time": "2023-06-02T21:01:59.459Z"
   },
   {
    "duration": 15,
    "start_time": "2023-06-02T21:01:59.496Z"
   },
   {
    "duration": 10,
    "start_time": "2023-06-02T21:01:59.513Z"
   },
   {
    "duration": 9,
    "start_time": "2023-06-02T21:01:59.524Z"
   },
   {
    "duration": 15,
    "start_time": "2023-06-02T21:01:59.534Z"
   },
   {
    "duration": 5,
    "start_time": "2023-06-02T21:01:59.551Z"
   },
   {
    "duration": 6,
    "start_time": "2023-06-02T21:01:59.557Z"
   },
   {
    "duration": 8,
    "start_time": "2023-06-02T21:01:59.564Z"
   },
   {
    "duration": 4,
    "start_time": "2023-06-02T21:01:59.573Z"
   },
   {
    "duration": 5,
    "start_time": "2023-06-02T21:01:59.578Z"
   },
   {
    "duration": 4,
    "start_time": "2023-06-02T21:01:59.606Z"
   },
   {
    "duration": 8,
    "start_time": "2023-06-02T21:01:59.612Z"
   },
   {
    "duration": 6,
    "start_time": "2023-06-02T21:01:59.621Z"
   },
   {
    "duration": 7,
    "start_time": "2023-06-02T21:01:59.629Z"
   },
   {
    "duration": 3,
    "start_time": "2023-06-02T21:01:59.637Z"
   },
   {
    "duration": 5,
    "start_time": "2023-06-02T21:01:59.641Z"
   },
   {
    "duration": 5,
    "start_time": "2023-06-02T21:01:59.647Z"
   },
   {
    "duration": 7,
    "start_time": "2023-06-02T21:01:59.653Z"
   },
   {
    "duration": 21,
    "start_time": "2023-06-02T21:01:59.661Z"
   },
   {
    "duration": 4,
    "start_time": "2023-06-02T21:01:59.684Z"
   },
   {
    "duration": 5,
    "start_time": "2023-06-02T21:01:59.706Z"
   },
   {
    "duration": 9,
    "start_time": "2023-06-02T21:01:59.713Z"
   },
   {
    "duration": 5,
    "start_time": "2023-06-02T21:01:59.724Z"
   },
   {
    "duration": 12,
    "start_time": "2023-06-02T21:01:59.730Z"
   },
   {
    "duration": 9,
    "start_time": "2023-06-02T21:01:59.743Z"
   },
   {
    "duration": 269,
    "start_time": "2023-06-02T21:01:59.754Z"
   },
   {
    "duration": 261,
    "start_time": "2023-06-02T21:02:00.024Z"
   },
   {
    "duration": 191,
    "start_time": "2023-06-02T21:02:00.287Z"
   },
   {
    "duration": 319,
    "start_time": "2023-06-02T21:02:00.480Z"
   },
   {
    "duration": 211,
    "start_time": "2023-06-02T21:02:00.806Z"
   },
   {
    "duration": 308,
    "start_time": "2023-06-02T21:02:01.018Z"
   },
   {
    "duration": 134,
    "start_time": "2023-06-02T21:02:01.327Z"
   },
   {
    "duration": 5,
    "start_time": "2023-06-02T21:02:01.463Z"
   },
   {
    "duration": 177,
    "start_time": "2023-06-02T21:02:01.470Z"
   },
   {
    "duration": 162,
    "start_time": "2023-06-02T21:02:01.648Z"
   },
   {
    "duration": 5,
    "start_time": "2023-06-02T21:02:01.812Z"
   },
   {
    "duration": 520,
    "start_time": "2023-06-02T21:02:01.818Z"
   },
   {
    "duration": 9,
    "start_time": "2023-06-02T21:02:02.339Z"
   },
   {
    "duration": 42,
    "start_time": "2023-06-02T21:02:02.351Z"
   },
   {
    "duration": 18,
    "start_time": "2023-06-02T21:02:02.395Z"
   },
   {
    "duration": 39,
    "start_time": "2023-06-02T21:02:02.415Z"
   },
   {
    "duration": 32,
    "start_time": "2023-06-02T21:02:02.455Z"
   },
   {
    "duration": 1266,
    "start_time": "2023-06-03T03:22:55.218Z"
   },
   {
    "duration": 31,
    "start_time": "2023-06-03T03:22:56.490Z"
   },
   {
    "duration": 58,
    "start_time": "2023-06-03T03:22:56.522Z"
   },
   {
    "duration": 25,
    "start_time": "2023-06-03T03:22:56.582Z"
   },
   {
    "duration": 18,
    "start_time": "2023-06-03T03:22:56.610Z"
   },
   {
    "duration": 31,
    "start_time": "2023-06-03T03:22:56.629Z"
   },
   {
    "duration": 56,
    "start_time": "2023-06-03T03:22:56.668Z"
   },
   {
    "duration": 16,
    "start_time": "2023-06-03T03:22:56.725Z"
   },
   {
    "duration": 61,
    "start_time": "2023-06-03T03:22:56.743Z"
   },
   {
    "duration": 16,
    "start_time": "2023-06-03T03:22:56.806Z"
   },
   {
    "duration": 9,
    "start_time": "2023-06-03T03:22:56.823Z"
   },
   {
    "duration": 9,
    "start_time": "2023-06-03T03:22:56.834Z"
   },
   {
    "duration": 65,
    "start_time": "2023-06-03T03:22:56.845Z"
   },
   {
    "duration": 25,
    "start_time": "2023-06-03T03:22:56.913Z"
   },
   {
    "duration": 28,
    "start_time": "2023-06-03T03:22:56.940Z"
   },
   {
    "duration": 39,
    "start_time": "2023-06-03T03:22:56.977Z"
   },
   {
    "duration": 9,
    "start_time": "2023-06-03T03:22:57.018Z"
   },
   {
    "duration": 12,
    "start_time": "2023-06-03T03:22:57.028Z"
   },
   {
    "duration": 60,
    "start_time": "2023-06-03T03:22:57.042Z"
   },
   {
    "duration": 14,
    "start_time": "2023-06-03T03:22:57.104Z"
   },
   {
    "duration": 16,
    "start_time": "2023-06-03T03:22:57.120Z"
   },
   {
    "duration": 44,
    "start_time": "2023-06-03T03:22:57.138Z"
   },
   {
    "duration": 21,
    "start_time": "2023-06-03T03:22:57.189Z"
   },
   {
    "duration": 30,
    "start_time": "2023-06-03T03:22:57.212Z"
   },
   {
    "duration": 58,
    "start_time": "2023-06-03T03:22:57.244Z"
   },
   {
    "duration": 24,
    "start_time": "2023-06-03T03:22:57.304Z"
   },
   {
    "duration": 44,
    "start_time": "2023-06-03T03:22:57.329Z"
   },
   {
    "duration": 347,
    "start_time": "2023-06-03T03:22:57.385Z"
   },
   {
    "duration": 413,
    "start_time": "2023-06-03T03:22:57.733Z"
   },
   {
    "duration": 322,
    "start_time": "2023-06-03T03:22:58.150Z"
   },
   {
    "duration": 376,
    "start_time": "2023-06-03T03:22:58.481Z"
   },
   {
    "duration": 299,
    "start_time": "2023-06-03T03:22:58.859Z"
   },
   {
    "duration": 365,
    "start_time": "2023-06-03T03:22:59.160Z"
   },
   {
    "duration": 182,
    "start_time": "2023-06-03T03:22:59.528Z"
   },
   {
    "duration": 5,
    "start_time": "2023-06-03T03:22:59.712Z"
   },
   {
    "duration": 211,
    "start_time": "2023-06-03T03:22:59.718Z"
   },
   {
    "duration": 228,
    "start_time": "2023-06-03T03:22:59.931Z"
   },
   {
    "duration": 20,
    "start_time": "2023-06-03T03:23:00.169Z"
   },
   {
    "duration": 643,
    "start_time": "2023-06-03T03:23:00.190Z"
   },
   {
    "duration": 25,
    "start_time": "2023-06-03T03:23:00.835Z"
   },
   {
    "duration": 50,
    "start_time": "2023-06-03T03:23:00.872Z"
   },
   {
    "duration": 58,
    "start_time": "2023-06-03T03:23:00.924Z"
   },
   {
    "duration": 137,
    "start_time": "2023-06-03T03:23:00.984Z"
   },
   {
    "duration": 22,
    "start_time": "2023-06-03T03:23:01.123Z"
   },
   {
    "duration": 60,
    "start_time": "2023-06-03T09:00:23.851Z"
   },
   {
    "duration": 1317,
    "start_time": "2023-06-03T09:00:27.810Z"
   },
   {
    "duration": 61,
    "start_time": "2023-06-03T09:00:29.129Z"
   },
   {
    "duration": 86,
    "start_time": "2023-06-03T09:00:29.192Z"
   },
   {
    "duration": 55,
    "start_time": "2023-06-03T09:00:29.281Z"
   },
   {
    "duration": 12,
    "start_time": "2023-06-03T09:00:29.337Z"
   },
   {
    "duration": 11,
    "start_time": "2023-06-03T09:00:29.352Z"
   },
   {
    "duration": 15,
    "start_time": "2023-06-03T09:00:29.365Z"
   },
   {
    "duration": 8,
    "start_time": "2023-06-03T09:00:29.382Z"
   },
   {
    "duration": 11,
    "start_time": "2023-06-03T09:00:29.392Z"
   },
   {
    "duration": 7,
    "start_time": "2023-06-03T09:00:29.407Z"
   },
   {
    "duration": 9,
    "start_time": "2023-06-03T09:00:29.416Z"
   },
   {
    "duration": 10,
    "start_time": "2023-06-03T09:00:29.426Z"
   },
   {
    "duration": 8,
    "start_time": "2023-06-03T09:00:29.437Z"
   },
   {
    "duration": 13,
    "start_time": "2023-06-03T09:00:29.447Z"
   },
   {
    "duration": 8,
    "start_time": "2023-06-03T09:00:29.477Z"
   },
   {
    "duration": 9,
    "start_time": "2023-06-03T09:00:29.486Z"
   },
   {
    "duration": 10,
    "start_time": "2023-06-03T09:00:29.497Z"
   },
   {
    "duration": 10,
    "start_time": "2023-06-03T09:00:29.509Z"
   },
   {
    "duration": 6,
    "start_time": "2023-06-03T09:00:29.520Z"
   },
   {
    "duration": 6,
    "start_time": "2023-06-03T09:00:29.528Z"
   },
   {
    "duration": 8,
    "start_time": "2023-06-03T09:00:29.536Z"
   },
   {
    "duration": 12,
    "start_time": "2023-06-03T09:00:29.545Z"
   },
   {
    "duration": 5,
    "start_time": "2023-06-03T09:00:29.577Z"
   },
   {
    "duration": 15,
    "start_time": "2023-06-03T09:00:29.583Z"
   },
   {
    "duration": 10,
    "start_time": "2023-06-03T09:00:29.599Z"
   },
   {
    "duration": 12,
    "start_time": "2023-06-03T09:00:29.611Z"
   },
   {
    "duration": 12,
    "start_time": "2023-06-03T09:00:29.624Z"
   },
   {
    "duration": 321,
    "start_time": "2023-06-03T09:00:29.639Z"
   },
   {
    "duration": 315,
    "start_time": "2023-06-03T09:00:29.961Z"
   },
   {
    "duration": 222,
    "start_time": "2023-06-03T09:00:30.278Z"
   },
   {
    "duration": 435,
    "start_time": "2023-06-03T09:00:30.502Z"
   },
   {
    "duration": 265,
    "start_time": "2023-06-03T09:00:30.939Z"
   },
   {
    "duration": 333,
    "start_time": "2023-06-03T09:00:31.206Z"
   },
   {
    "duration": 170,
    "start_time": "2023-06-03T09:00:31.540Z"
   },
   {
    "duration": 7,
    "start_time": "2023-06-03T09:00:31.712Z"
   },
   {
    "duration": 260,
    "start_time": "2023-06-03T09:00:31.721Z"
   },
   {
    "duration": 190,
    "start_time": "2023-06-03T09:00:31.982Z"
   },
   {
    "duration": 6,
    "start_time": "2023-06-03T09:00:32.173Z"
   },
   {
    "duration": 562,
    "start_time": "2023-06-03T09:00:32.181Z"
   },
   {
    "duration": 11,
    "start_time": "2023-06-03T09:00:32.745Z"
   },
   {
    "duration": 18,
    "start_time": "2023-06-03T09:00:32.757Z"
   },
   {
    "duration": 29,
    "start_time": "2023-06-03T09:00:32.776Z"
   },
   {
    "duration": 48,
    "start_time": "2023-06-03T09:00:32.807Z"
   },
   {
    "duration": 15,
    "start_time": "2023-06-03T09:00:32.856Z"
   },
   {
    "duration": 369,
    "start_time": "2023-06-03T09:00:54.127Z"
   },
   {
    "duration": 345,
    "start_time": "2023-06-03T09:01:02.306Z"
   },
   {
    "duration": 313,
    "start_time": "2023-06-03T09:01:40.807Z"
   },
   {
    "duration": 402,
    "start_time": "2023-06-03T09:02:00.673Z"
   },
   {
    "duration": 1338,
    "start_time": "2023-06-03T10:15:11.194Z"
   },
   {
    "duration": 83,
    "start_time": "2023-06-03T10:15:12.534Z"
   },
   {
    "duration": 73,
    "start_time": "2023-06-03T10:15:12.618Z"
   },
   {
    "duration": 59,
    "start_time": "2023-06-03T10:15:12.693Z"
   },
   {
    "duration": 11,
    "start_time": "2023-06-03T10:15:12.754Z"
   },
   {
    "duration": 13,
    "start_time": "2023-06-03T10:15:12.767Z"
   },
   {
    "duration": 17,
    "start_time": "2023-06-03T10:15:12.782Z"
   },
   {
    "duration": 7,
    "start_time": "2023-06-03T10:15:12.801Z"
   },
   {
    "duration": 22,
    "start_time": "2023-06-03T10:15:12.810Z"
   },
   {
    "duration": 16,
    "start_time": "2023-06-03T10:15:12.835Z"
   },
   {
    "duration": 10,
    "start_time": "2023-06-03T10:15:12.852Z"
   },
   {
    "duration": 6,
    "start_time": "2023-06-03T10:15:12.863Z"
   },
   {
    "duration": 7,
    "start_time": "2023-06-03T10:15:12.871Z"
   },
   {
    "duration": 13,
    "start_time": "2023-06-03T10:15:12.879Z"
   },
   {
    "duration": 8,
    "start_time": "2023-06-03T10:15:12.894Z"
   },
   {
    "duration": 24,
    "start_time": "2023-06-03T10:15:12.904Z"
   },
   {
    "duration": 7,
    "start_time": "2023-06-03T10:15:12.931Z"
   },
   {
    "duration": 10,
    "start_time": "2023-06-03T10:15:12.940Z"
   },
   {
    "duration": 6,
    "start_time": "2023-06-03T10:15:12.952Z"
   },
   {
    "duration": 11,
    "start_time": "2023-06-03T10:15:12.960Z"
   },
   {
    "duration": 7,
    "start_time": "2023-06-03T10:15:12.973Z"
   },
   {
    "duration": 16,
    "start_time": "2023-06-03T10:15:12.982Z"
   },
   {
    "duration": 25,
    "start_time": "2023-06-03T10:15:13.000Z"
   },
   {
    "duration": 17,
    "start_time": "2023-06-03T10:15:13.027Z"
   },
   {
    "duration": 18,
    "start_time": "2023-06-03T10:15:13.046Z"
   },
   {
    "duration": 19,
    "start_time": "2023-06-03T10:15:13.066Z"
   },
   {
    "duration": 16,
    "start_time": "2023-06-03T10:15:13.087Z"
   },
   {
    "duration": 295,
    "start_time": "2023-06-03T10:15:13.107Z"
   },
   {
    "duration": 279,
    "start_time": "2023-06-03T10:15:13.404Z"
   },
   {
    "duration": 198,
    "start_time": "2023-06-03T10:15:13.685Z"
   },
   {
    "duration": 393,
    "start_time": "2023-06-03T10:15:13.885Z"
   },
   {
    "duration": 230,
    "start_time": "2023-06-03T10:15:14.279Z"
   },
   {
    "duration": 342,
    "start_time": "2023-06-03T10:15:14.510Z"
   },
   {
    "duration": 143,
    "start_time": "2023-06-03T10:15:14.854Z"
   },
   {
    "duration": 6,
    "start_time": "2023-06-03T10:15:14.999Z"
   },
   {
    "duration": 175,
    "start_time": "2023-06-03T10:15:15.007Z"
   },
   {
    "duration": 170,
    "start_time": "2023-06-03T10:15:15.184Z"
   },
   {
    "duration": 5,
    "start_time": "2023-06-03T10:15:15.355Z"
   },
   {
    "duration": 564,
    "start_time": "2023-06-03T10:15:15.362Z"
   },
   {
    "duration": 10,
    "start_time": "2023-06-03T10:15:15.928Z"
   },
   {
    "duration": 3,
    "start_time": "2023-06-03T10:15:15.940Z"
   },
   {
    "duration": 9,
    "start_time": "2023-06-03T10:15:15.945Z"
   },
   {
    "duration": 31,
    "start_time": "2023-06-03T10:15:15.956Z"
   },
   {
    "duration": 37,
    "start_time": "2023-06-03T10:15:15.989Z"
   },
   {
    "duration": 319,
    "start_time": "2023-06-03T13:52:08.221Z"
   }
  ],
  "kernelspec": {
   "display_name": "Python 3 (ipykernel)",
   "language": "python",
   "name": "python3"
  },
  "language_info": {
   "codemirror_mode": {
    "name": "ipython",
    "version": 3
   },
   "file_extension": ".py",
   "mimetype": "text/x-python",
   "name": "python",
   "nbconvert_exporter": "python",
   "pygments_lexer": "ipython3",
   "version": "3.11.5"
  },
  "toc": {
   "base_numbering": 1,
   "nav_menu": {},
   "number_sections": true,
   "sideBar": true,
   "skip_h1_title": true,
   "title_cell": "Table of Contents",
   "title_sidebar": "Contents",
   "toc_cell": false,
   "toc_position": {},
   "toc_section_display": true,
   "toc_window_display": false
  }
 },
 "nbformat": 4,
 "nbformat_minor": 2
}
